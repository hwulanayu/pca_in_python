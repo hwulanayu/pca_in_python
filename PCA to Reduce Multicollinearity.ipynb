{
 "cells": [
  {
   "cell_type": "markdown",
   "id": "4345f705",
   "metadata": {},
   "source": [
    "Note: This notebook is an alternative to [this article](https://rpubs.com/tomytjandra/PCA-reduce-multicollinearity) for PCA with the Python programming language."
   ]
  },
  {
   "cell_type": "markdown",
   "id": "aa82aedc",
   "metadata": {},
   "source": [
    "# PCA to Reduce Multicollinearity"
   ]
  },
  {
   "cell_type": "markdown",
   "id": "13956e98",
   "metadata": {},
   "source": [
    "## Libraries "
   ]
  },
  {
   "cell_type": "code",
   "execution_count": 72,
   "id": "e666ec6f",
   "metadata": {},
   "outputs": [],
   "source": [
    "import numpy as np # data processing\n",
    "import pandas as pd # data processing\n",
    "import matplotlib.pyplot as plt # visualization\n",
    "import statsmodels.api as sm # modelling\n",
    "from sklearn.preprocessing import StandardScaler # scaling\n",
    "from sklearn.decomposition import PCA # pca\n",
    "import plotly.io as pio # render ploty\n",
    "pio.renderers.default='notebook_connected'"
   ]
  },
  {
   "cell_type": "markdown",
   "id": "08d56c1f",
   "metadata": {},
   "source": [
    "## Business Question"
   ]
  },
  {
   "cell_type": "markdown",
   "id": "66fa5484",
   "metadata": {},
   "source": [
    "- **Objective**: Create a regression model to predict crime rates.\n",
    "- **PCA function**: Fulfillment of the assumption of no multicollinearity between predictors."
   ]
  },
  {
   "cell_type": "markdown",
   "id": "82e8938e",
   "metadata": {},
   "source": [
    "> Note: in the following example, train-test splitting is not performed. In reality, PCA is only carried out on train data; then, the test data will be transformed using eigenvectors learned from the train data."
   ]
  },
  {
   "cell_type": "markdown",
   "id": "e0604e45",
   "metadata": {},
   "source": [
    "## Read Data \n",
    "\n",
    "Crime data is socio-economic data from 47 US states in 1960. The values of the variables appear to have been scaled.\n"
   ]
  },
  {
   "cell_type": "code",
   "execution_count": 73,
   "id": "cf540485",
   "metadata": {},
   "outputs": [
    {
     "data": {
      "text/html": [
       "<div>\n",
       "<style scoped>\n",
       "    .dataframe tbody tr th:only-of-type {\n",
       "        vertical-align: middle;\n",
       "    }\n",
       "\n",
       "    .dataframe tbody tr th {\n",
       "        vertical-align: top;\n",
       "    }\n",
       "\n",
       "    .dataframe thead th {\n",
       "        text-align: right;\n",
       "    }\n",
       "</style>\n",
       "<table border=\"1\" class=\"dataframe\">\n",
       "  <thead>\n",
       "    <tr style=\"text-align: right;\">\n",
       "      <th></th>\n",
       "      <th>percent_m</th>\n",
       "      <th>is_south</th>\n",
       "      <th>mean_education</th>\n",
       "      <th>police_exp60</th>\n",
       "      <th>police_exp59</th>\n",
       "      <th>labour_participation</th>\n",
       "      <th>m_per1000f</th>\n",
       "      <th>state_pop</th>\n",
       "      <th>nonwhites_per1000</th>\n",
       "      <th>unemploy_m24</th>\n",
       "      <th>unemploy_m39</th>\n",
       "      <th>gdp</th>\n",
       "      <th>inequality</th>\n",
       "      <th>prob_prison</th>\n",
       "      <th>time_prison</th>\n",
       "      <th>crime_rate</th>\n",
       "    </tr>\n",
       "  </thead>\n",
       "  <tbody>\n",
       "    <tr>\n",
       "      <th>1</th>\n",
       "      <td>151</td>\n",
       "      <td>1</td>\n",
       "      <td>91</td>\n",
       "      <td>58</td>\n",
       "      <td>56</td>\n",
       "      <td>510</td>\n",
       "      <td>950</td>\n",
       "      <td>33</td>\n",
       "      <td>301</td>\n",
       "      <td>108</td>\n",
       "      <td>41</td>\n",
       "      <td>394</td>\n",
       "      <td>261</td>\n",
       "      <td>0.084602</td>\n",
       "      <td>26.2011</td>\n",
       "      <td>791</td>\n",
       "    </tr>\n",
       "    <tr>\n",
       "      <th>2</th>\n",
       "      <td>143</td>\n",
       "      <td>0</td>\n",
       "      <td>113</td>\n",
       "      <td>103</td>\n",
       "      <td>95</td>\n",
       "      <td>583</td>\n",
       "      <td>1012</td>\n",
       "      <td>13</td>\n",
       "      <td>102</td>\n",
       "      <td>96</td>\n",
       "      <td>36</td>\n",
       "      <td>557</td>\n",
       "      <td>194</td>\n",
       "      <td>0.029599</td>\n",
       "      <td>25.2999</td>\n",
       "      <td>1635</td>\n",
       "    </tr>\n",
       "    <tr>\n",
       "      <th>3</th>\n",
       "      <td>142</td>\n",
       "      <td>1</td>\n",
       "      <td>89</td>\n",
       "      <td>45</td>\n",
       "      <td>44</td>\n",
       "      <td>533</td>\n",
       "      <td>969</td>\n",
       "      <td>18</td>\n",
       "      <td>219</td>\n",
       "      <td>94</td>\n",
       "      <td>33</td>\n",
       "      <td>318</td>\n",
       "      <td>250</td>\n",
       "      <td>0.083401</td>\n",
       "      <td>24.3006</td>\n",
       "      <td>578</td>\n",
       "    </tr>\n",
       "    <tr>\n",
       "      <th>4</th>\n",
       "      <td>136</td>\n",
       "      <td>0</td>\n",
       "      <td>121</td>\n",
       "      <td>149</td>\n",
       "      <td>141</td>\n",
       "      <td>577</td>\n",
       "      <td>994</td>\n",
       "      <td>157</td>\n",
       "      <td>80</td>\n",
       "      <td>102</td>\n",
       "      <td>39</td>\n",
       "      <td>673</td>\n",
       "      <td>167</td>\n",
       "      <td>0.015801</td>\n",
       "      <td>29.9012</td>\n",
       "      <td>1969</td>\n",
       "    </tr>\n",
       "    <tr>\n",
       "      <th>5</th>\n",
       "      <td>141</td>\n",
       "      <td>0</td>\n",
       "      <td>121</td>\n",
       "      <td>109</td>\n",
       "      <td>101</td>\n",
       "      <td>591</td>\n",
       "      <td>985</td>\n",
       "      <td>18</td>\n",
       "      <td>30</td>\n",
       "      <td>91</td>\n",
       "      <td>20</td>\n",
       "      <td>578</td>\n",
       "      <td>174</td>\n",
       "      <td>0.041399</td>\n",
       "      <td>21.2998</td>\n",
       "      <td>1234</td>\n",
       "    </tr>\n",
       "  </tbody>\n",
       "</table>\n",
       "</div>"
      ],
      "text/plain": [
       "   percent_m  is_south  mean_education  police_exp60  police_exp59  \\\n",
       "1        151         1              91            58            56   \n",
       "2        143         0             113           103            95   \n",
       "3        142         1              89            45            44   \n",
       "4        136         0             121           149           141   \n",
       "5        141         0             121           109           101   \n",
       "\n",
       "   labour_participation  m_per1000f  state_pop  nonwhites_per1000  \\\n",
       "1                   510         950         33                301   \n",
       "2                   583        1012         13                102   \n",
       "3                   533         969         18                219   \n",
       "4                   577         994        157                 80   \n",
       "5                   591         985         18                 30   \n",
       "\n",
       "   unemploy_m24  unemploy_m39  gdp  inequality  prob_prison  time_prison  \\\n",
       "1           108            41  394         261     0.084602      26.2011   \n",
       "2            96            36  557         194     0.029599      25.2999   \n",
       "3            94            33  318         250     0.083401      24.3006   \n",
       "4           102            39  673         167     0.015801      29.9012   \n",
       "5            91            20  578         174     0.041399      21.2998   \n",
       "\n",
       "   crime_rate  \n",
       "1         791  \n",
       "2        1635  \n",
       "3         578  \n",
       "4        1969  \n",
       "5        1234  "
      ]
     },
     "execution_count": 73,
     "metadata": {},
     "output_type": "execute_result"
    }
   ],
   "source": [
    "crime = pd.read_csv(\"data_input/crime.csv\", index_col=0)\n",
    "\n",
    "crime.columns = ['percent_m', 'is_south', 'mean_education', \n",
    "                 'police_exp60', 'police_exp59', 'labour_participation',\n",
    "                 'm_per1000f', 'state_pop', 'nonwhites_per1000', 'unemploy_m24',\n",
    "                 'unemploy_m39', 'gdp', 'inequality', 'prob_prison', 'time_prison',  \n",
    "                 'crime_rate']\n",
    "\n",
    "crime.head()"
   ]
  },
  {
   "cell_type": "markdown",
   "id": "e4e30d99",
   "metadata": {},
   "source": [
    "**Data Description :**\n",
    "\n",
    "- `percent_m`: percentage of males aged 14-24\n",
    "- `is_south`: whether it is in a Southern state. 1 for Yes, 0 for No.  \n",
    "- `mean_education`: mean years of schooling  \n",
    "- `police_exp60`: police expenditure in 1960  \n",
    "- `police_exp59`: police expenditure in 1959\n",
    "- `labour_participation`: labour force participation rate  \n",
    "- `m_per1000f`: number of males per 1000 females  \n",
    "- `state_pop`: state population  \n",
    "- `nonwhites_per1000`: number of non-whites resident per 1000 people  \n",
    "- `unemploy_m24`: unemployment rate of urban males aged 14-24  \n",
    "- `unemploy_m39`: unemployment rate of urban males aged 35-39  \n",
    "- `gdp`: gross domestic product per head  \n",
    "- `inequality`: income inequality  \n",
    "- `prob_prison`: probability of imprisonment  \n",
    "- `time_prison`: avg time served in prisons  \n",
    "- `crime_rate`: crime rate in an unspecified category"
   ]
  },
  {
   "cell_type": "markdown",
   "id": "ec1fc2e5",
   "metadata": {},
   "source": [
    "## Exploratory Data Analysis"
   ]
  },
  {
   "cell_type": "markdown",
   "id": "a4c89fc5",
   "metadata": {},
   "source": [
    "Check the correlation between numerical columns."
   ]
  },
  {
   "cell_type": "code",
   "execution_count": 74,
   "id": "0cbcb2ac",
   "metadata": {},
   "outputs": [
    {
     "data": {
      "text/html": [
       "<div>\n",
       "<style scoped>\n",
       "    .dataframe tbody tr th:only-of-type {\n",
       "        vertical-align: middle;\n",
       "    }\n",
       "\n",
       "    .dataframe tbody tr th {\n",
       "        vertical-align: top;\n",
       "    }\n",
       "\n",
       "    .dataframe thead th {\n",
       "        text-align: right;\n",
       "    }\n",
       "</style>\n",
       "<table border=\"1\" class=\"dataframe\">\n",
       "  <thead>\n",
       "    <tr style=\"text-align: right;\">\n",
       "      <th></th>\n",
       "      <th>percent_m</th>\n",
       "      <th>is_south</th>\n",
       "      <th>mean_education</th>\n",
       "      <th>police_exp60</th>\n",
       "      <th>police_exp59</th>\n",
       "      <th>labour_participation</th>\n",
       "      <th>m_per1000f</th>\n",
       "      <th>state_pop</th>\n",
       "      <th>nonwhites_per1000</th>\n",
       "      <th>unemploy_m24</th>\n",
       "      <th>unemploy_m39</th>\n",
       "      <th>gdp</th>\n",
       "      <th>inequality</th>\n",
       "      <th>prob_prison</th>\n",
       "      <th>time_prison</th>\n",
       "      <th>crime_rate</th>\n",
       "    </tr>\n",
       "  </thead>\n",
       "  <tbody>\n",
       "    <tr>\n",
       "      <th>percent_m</th>\n",
       "      <td>1.000000</td>\n",
       "      <td>0.584355</td>\n",
       "      <td>-0.530240</td>\n",
       "      <td>-0.505737</td>\n",
       "      <td>-0.513173</td>\n",
       "      <td>-0.160949</td>\n",
       "      <td>-0.028680</td>\n",
       "      <td>-0.280638</td>\n",
       "      <td>0.593198</td>\n",
       "      <td>-0.224381</td>\n",
       "      <td>-0.244843</td>\n",
       "      <td>-0.670055</td>\n",
       "      <td>0.639211</td>\n",
       "      <td>0.361116</td>\n",
       "      <td>0.114511</td>\n",
       "      <td>-0.089472</td>\n",
       "    </tr>\n",
       "    <tr>\n",
       "      <th>is_south</th>\n",
       "      <td>0.584355</td>\n",
       "      <td>1.000000</td>\n",
       "      <td>-0.702741</td>\n",
       "      <td>-0.372636</td>\n",
       "      <td>-0.376168</td>\n",
       "      <td>-0.505469</td>\n",
       "      <td>-0.314733</td>\n",
       "      <td>-0.049918</td>\n",
       "      <td>0.767103</td>\n",
       "      <td>-0.172419</td>\n",
       "      <td>0.071693</td>\n",
       "      <td>-0.636945</td>\n",
       "      <td>0.737181</td>\n",
       "      <td>0.530862</td>\n",
       "      <td>0.066813</td>\n",
       "      <td>-0.090637</td>\n",
       "    </tr>\n",
       "    <tr>\n",
       "      <th>mean_education</th>\n",
       "      <td>-0.530240</td>\n",
       "      <td>-0.702741</td>\n",
       "      <td>1.000000</td>\n",
       "      <td>0.482952</td>\n",
       "      <td>0.499410</td>\n",
       "      <td>0.561178</td>\n",
       "      <td>0.436915</td>\n",
       "      <td>-0.017227</td>\n",
       "      <td>-0.664882</td>\n",
       "      <td>0.018103</td>\n",
       "      <td>-0.215682</td>\n",
       "      <td>0.735997</td>\n",
       "      <td>-0.768658</td>\n",
       "      <td>-0.389923</td>\n",
       "      <td>-0.253974</td>\n",
       "      <td>0.322835</td>\n",
       "    </tr>\n",
       "    <tr>\n",
       "      <th>police_exp60</th>\n",
       "      <td>-0.505737</td>\n",
       "      <td>-0.372636</td>\n",
       "      <td>0.482952</td>\n",
       "      <td>1.000000</td>\n",
       "      <td>0.993586</td>\n",
       "      <td>0.121493</td>\n",
       "      <td>0.033760</td>\n",
       "      <td>0.526284</td>\n",
       "      <td>-0.213709</td>\n",
       "      <td>-0.043698</td>\n",
       "      <td>0.185093</td>\n",
       "      <td>0.787225</td>\n",
       "      <td>-0.630500</td>\n",
       "      <td>-0.473247</td>\n",
       "      <td>0.103358</td>\n",
       "      <td>0.687604</td>\n",
       "    </tr>\n",
       "    <tr>\n",
       "      <th>police_exp59</th>\n",
       "      <td>-0.513173</td>\n",
       "      <td>-0.376168</td>\n",
       "      <td>0.499410</td>\n",
       "      <td>0.993586</td>\n",
       "      <td>1.000000</td>\n",
       "      <td>0.106350</td>\n",
       "      <td>0.022843</td>\n",
       "      <td>0.513789</td>\n",
       "      <td>-0.218768</td>\n",
       "      <td>-0.051712</td>\n",
       "      <td>0.169224</td>\n",
       "      <td>0.794262</td>\n",
       "      <td>-0.648152</td>\n",
       "      <td>-0.473027</td>\n",
       "      <td>0.075627</td>\n",
       "      <td>0.666714</td>\n",
       "    </tr>\n",
       "    <tr>\n",
       "      <th>labour_participation</th>\n",
       "      <td>-0.160949</td>\n",
       "      <td>-0.505469</td>\n",
       "      <td>0.561178</td>\n",
       "      <td>0.121493</td>\n",
       "      <td>0.106350</td>\n",
       "      <td>1.000000</td>\n",
       "      <td>0.513559</td>\n",
       "      <td>-0.123672</td>\n",
       "      <td>-0.341214</td>\n",
       "      <td>-0.229400</td>\n",
       "      <td>-0.420762</td>\n",
       "      <td>0.294632</td>\n",
       "      <td>-0.269886</td>\n",
       "      <td>-0.250086</td>\n",
       "      <td>-0.123640</td>\n",
       "      <td>0.188866</td>\n",
       "    </tr>\n",
       "    <tr>\n",
       "      <th>m_per1000f</th>\n",
       "      <td>-0.028680</td>\n",
       "      <td>-0.314733</td>\n",
       "      <td>0.436915</td>\n",
       "      <td>0.033760</td>\n",
       "      <td>0.022843</td>\n",
       "      <td>0.513559</td>\n",
       "      <td>1.000000</td>\n",
       "      <td>-0.410628</td>\n",
       "      <td>-0.327305</td>\n",
       "      <td>0.351892</td>\n",
       "      <td>-0.018692</td>\n",
       "      <td>0.179609</td>\n",
       "      <td>-0.167089</td>\n",
       "      <td>-0.050858</td>\n",
       "      <td>-0.427697</td>\n",
       "      <td>0.213914</td>\n",
       "    </tr>\n",
       "    <tr>\n",
       "      <th>state_pop</th>\n",
       "      <td>-0.280638</td>\n",
       "      <td>-0.049918</td>\n",
       "      <td>-0.017227</td>\n",
       "      <td>0.526284</td>\n",
       "      <td>0.513789</td>\n",
       "      <td>-0.123672</td>\n",
       "      <td>-0.410628</td>\n",
       "      <td>1.000000</td>\n",
       "      <td>0.095153</td>\n",
       "      <td>-0.038120</td>\n",
       "      <td>0.270422</td>\n",
       "      <td>0.308263</td>\n",
       "      <td>-0.126294</td>\n",
       "      <td>-0.347289</td>\n",
       "      <td>0.464210</td>\n",
       "      <td>0.337474</td>\n",
       "    </tr>\n",
       "    <tr>\n",
       "      <th>nonwhites_per1000</th>\n",
       "      <td>0.593198</td>\n",
       "      <td>0.767103</td>\n",
       "      <td>-0.664882</td>\n",
       "      <td>-0.213709</td>\n",
       "      <td>-0.218768</td>\n",
       "      <td>-0.341214</td>\n",
       "      <td>-0.327305</td>\n",
       "      <td>0.095153</td>\n",
       "      <td>1.000000</td>\n",
       "      <td>-0.156450</td>\n",
       "      <td>0.080908</td>\n",
       "      <td>-0.590107</td>\n",
       "      <td>0.677313</td>\n",
       "      <td>0.428059</td>\n",
       "      <td>0.230398</td>\n",
       "      <td>0.032599</td>\n",
       "    </tr>\n",
       "    <tr>\n",
       "      <th>unemploy_m24</th>\n",
       "      <td>-0.224381</td>\n",
       "      <td>-0.172419</td>\n",
       "      <td>0.018103</td>\n",
       "      <td>-0.043698</td>\n",
       "      <td>-0.051712</td>\n",
       "      <td>-0.229400</td>\n",
       "      <td>0.351892</td>\n",
       "      <td>-0.038120</td>\n",
       "      <td>-0.156450</td>\n",
       "      <td>1.000000</td>\n",
       "      <td>0.745925</td>\n",
       "      <td>0.044857</td>\n",
       "      <td>-0.063832</td>\n",
       "      <td>-0.007469</td>\n",
       "      <td>-0.169853</td>\n",
       "      <td>-0.050478</td>\n",
       "    </tr>\n",
       "    <tr>\n",
       "      <th>unemploy_m39</th>\n",
       "      <td>-0.244843</td>\n",
       "      <td>0.071693</td>\n",
       "      <td>-0.215682</td>\n",
       "      <td>0.185093</td>\n",
       "      <td>0.169224</td>\n",
       "      <td>-0.420762</td>\n",
       "      <td>-0.018692</td>\n",
       "      <td>0.270422</td>\n",
       "      <td>0.080908</td>\n",
       "      <td>0.745925</td>\n",
       "      <td>1.000000</td>\n",
       "      <td>0.092072</td>\n",
       "      <td>0.015678</td>\n",
       "      <td>-0.061592</td>\n",
       "      <td>0.101358</td>\n",
       "      <td>0.177321</td>\n",
       "    </tr>\n",
       "    <tr>\n",
       "      <th>gdp</th>\n",
       "      <td>-0.670055</td>\n",
       "      <td>-0.636945</td>\n",
       "      <td>0.735997</td>\n",
       "      <td>0.787225</td>\n",
       "      <td>0.794262</td>\n",
       "      <td>0.294632</td>\n",
       "      <td>0.179609</td>\n",
       "      <td>0.308263</td>\n",
       "      <td>-0.590107</td>\n",
       "      <td>0.044857</td>\n",
       "      <td>0.092072</td>\n",
       "      <td>1.000000</td>\n",
       "      <td>-0.883997</td>\n",
       "      <td>-0.555335</td>\n",
       "      <td>0.000649</td>\n",
       "      <td>0.441320</td>\n",
       "    </tr>\n",
       "    <tr>\n",
       "      <th>inequality</th>\n",
       "      <td>0.639211</td>\n",
       "      <td>0.737181</td>\n",
       "      <td>-0.768658</td>\n",
       "      <td>-0.630500</td>\n",
       "      <td>-0.648152</td>\n",
       "      <td>-0.269886</td>\n",
       "      <td>-0.167089</td>\n",
       "      <td>-0.126294</td>\n",
       "      <td>0.677313</td>\n",
       "      <td>-0.063832</td>\n",
       "      <td>0.015678</td>\n",
       "      <td>-0.883997</td>\n",
       "      <td>1.000000</td>\n",
       "      <td>0.465322</td>\n",
       "      <td>0.101823</td>\n",
       "      <td>-0.179024</td>\n",
       "    </tr>\n",
       "    <tr>\n",
       "      <th>prob_prison</th>\n",
       "      <td>0.361116</td>\n",
       "      <td>0.530862</td>\n",
       "      <td>-0.389923</td>\n",
       "      <td>-0.473247</td>\n",
       "      <td>-0.473027</td>\n",
       "      <td>-0.250086</td>\n",
       "      <td>-0.050858</td>\n",
       "      <td>-0.347289</td>\n",
       "      <td>0.428059</td>\n",
       "      <td>-0.007469</td>\n",
       "      <td>-0.061592</td>\n",
       "      <td>-0.555335</td>\n",
       "      <td>0.465322</td>\n",
       "      <td>1.000000</td>\n",
       "      <td>-0.436246</td>\n",
       "      <td>-0.427422</td>\n",
       "    </tr>\n",
       "    <tr>\n",
       "      <th>time_prison</th>\n",
       "      <td>0.114511</td>\n",
       "      <td>0.066813</td>\n",
       "      <td>-0.253974</td>\n",
       "      <td>0.103358</td>\n",
       "      <td>0.075627</td>\n",
       "      <td>-0.123640</td>\n",
       "      <td>-0.427697</td>\n",
       "      <td>0.464210</td>\n",
       "      <td>0.230398</td>\n",
       "      <td>-0.169853</td>\n",
       "      <td>0.101358</td>\n",
       "      <td>0.000649</td>\n",
       "      <td>0.101823</td>\n",
       "      <td>-0.436246</td>\n",
       "      <td>1.000000</td>\n",
       "      <td>0.149866</td>\n",
       "    </tr>\n",
       "    <tr>\n",
       "      <th>crime_rate</th>\n",
       "      <td>-0.089472</td>\n",
       "      <td>-0.090637</td>\n",
       "      <td>0.322835</td>\n",
       "      <td>0.687604</td>\n",
       "      <td>0.666714</td>\n",
       "      <td>0.188866</td>\n",
       "      <td>0.213914</td>\n",
       "      <td>0.337474</td>\n",
       "      <td>0.032599</td>\n",
       "      <td>-0.050478</td>\n",
       "      <td>0.177321</td>\n",
       "      <td>0.441320</td>\n",
       "      <td>-0.179024</td>\n",
       "      <td>-0.427422</td>\n",
       "      <td>0.149866</td>\n",
       "      <td>1.000000</td>\n",
       "    </tr>\n",
       "  </tbody>\n",
       "</table>\n",
       "</div>"
      ],
      "text/plain": [
       "                      percent_m  is_south  mean_education  police_exp60  \\\n",
       "percent_m              1.000000  0.584355       -0.530240     -0.505737   \n",
       "is_south               0.584355  1.000000       -0.702741     -0.372636   \n",
       "mean_education        -0.530240 -0.702741        1.000000      0.482952   \n",
       "police_exp60          -0.505737 -0.372636        0.482952      1.000000   \n",
       "police_exp59          -0.513173 -0.376168        0.499410      0.993586   \n",
       "labour_participation  -0.160949 -0.505469        0.561178      0.121493   \n",
       "m_per1000f            -0.028680 -0.314733        0.436915      0.033760   \n",
       "state_pop             -0.280638 -0.049918       -0.017227      0.526284   \n",
       "nonwhites_per1000      0.593198  0.767103       -0.664882     -0.213709   \n",
       "unemploy_m24          -0.224381 -0.172419        0.018103     -0.043698   \n",
       "unemploy_m39          -0.244843  0.071693       -0.215682      0.185093   \n",
       "gdp                   -0.670055 -0.636945        0.735997      0.787225   \n",
       "inequality             0.639211  0.737181       -0.768658     -0.630500   \n",
       "prob_prison            0.361116  0.530862       -0.389923     -0.473247   \n",
       "time_prison            0.114511  0.066813       -0.253974      0.103358   \n",
       "crime_rate            -0.089472 -0.090637        0.322835      0.687604   \n",
       "\n",
       "                      police_exp59  labour_participation  m_per1000f  \\\n",
       "percent_m                -0.513173             -0.160949   -0.028680   \n",
       "is_south                 -0.376168             -0.505469   -0.314733   \n",
       "mean_education            0.499410              0.561178    0.436915   \n",
       "police_exp60              0.993586              0.121493    0.033760   \n",
       "police_exp59              1.000000              0.106350    0.022843   \n",
       "labour_participation      0.106350              1.000000    0.513559   \n",
       "m_per1000f                0.022843              0.513559    1.000000   \n",
       "state_pop                 0.513789             -0.123672   -0.410628   \n",
       "nonwhites_per1000        -0.218768             -0.341214   -0.327305   \n",
       "unemploy_m24             -0.051712             -0.229400    0.351892   \n",
       "unemploy_m39              0.169224             -0.420762   -0.018692   \n",
       "gdp                       0.794262              0.294632    0.179609   \n",
       "inequality               -0.648152             -0.269886   -0.167089   \n",
       "prob_prison              -0.473027             -0.250086   -0.050858   \n",
       "time_prison               0.075627             -0.123640   -0.427697   \n",
       "crime_rate                0.666714              0.188866    0.213914   \n",
       "\n",
       "                      state_pop  nonwhites_per1000  unemploy_m24  \\\n",
       "percent_m             -0.280638           0.593198     -0.224381   \n",
       "is_south              -0.049918           0.767103     -0.172419   \n",
       "mean_education        -0.017227          -0.664882      0.018103   \n",
       "police_exp60           0.526284          -0.213709     -0.043698   \n",
       "police_exp59           0.513789          -0.218768     -0.051712   \n",
       "labour_participation  -0.123672          -0.341214     -0.229400   \n",
       "m_per1000f            -0.410628          -0.327305      0.351892   \n",
       "state_pop              1.000000           0.095153     -0.038120   \n",
       "nonwhites_per1000      0.095153           1.000000     -0.156450   \n",
       "unemploy_m24          -0.038120          -0.156450      1.000000   \n",
       "unemploy_m39           0.270422           0.080908      0.745925   \n",
       "gdp                    0.308263          -0.590107      0.044857   \n",
       "inequality            -0.126294           0.677313     -0.063832   \n",
       "prob_prison           -0.347289           0.428059     -0.007469   \n",
       "time_prison            0.464210           0.230398     -0.169853   \n",
       "crime_rate             0.337474           0.032599     -0.050478   \n",
       "\n",
       "                      unemploy_m39       gdp  inequality  prob_prison  \\\n",
       "percent_m                -0.244843 -0.670055    0.639211     0.361116   \n",
       "is_south                  0.071693 -0.636945    0.737181     0.530862   \n",
       "mean_education           -0.215682  0.735997   -0.768658    -0.389923   \n",
       "police_exp60              0.185093  0.787225   -0.630500    -0.473247   \n",
       "police_exp59              0.169224  0.794262   -0.648152    -0.473027   \n",
       "labour_participation     -0.420762  0.294632   -0.269886    -0.250086   \n",
       "m_per1000f               -0.018692  0.179609   -0.167089    -0.050858   \n",
       "state_pop                 0.270422  0.308263   -0.126294    -0.347289   \n",
       "nonwhites_per1000         0.080908 -0.590107    0.677313     0.428059   \n",
       "unemploy_m24              0.745925  0.044857   -0.063832    -0.007469   \n",
       "unemploy_m39              1.000000  0.092072    0.015678    -0.061592   \n",
       "gdp                       0.092072  1.000000   -0.883997    -0.555335   \n",
       "inequality                0.015678 -0.883997    1.000000     0.465322   \n",
       "prob_prison              -0.061592 -0.555335    0.465322     1.000000   \n",
       "time_prison               0.101358  0.000649    0.101823    -0.436246   \n",
       "crime_rate                0.177321  0.441320   -0.179024    -0.427422   \n",
       "\n",
       "                      time_prison  crime_rate  \n",
       "percent_m                0.114511   -0.089472  \n",
       "is_south                 0.066813   -0.090637  \n",
       "mean_education          -0.253974    0.322835  \n",
       "police_exp60             0.103358    0.687604  \n",
       "police_exp59             0.075627    0.666714  \n",
       "labour_participation    -0.123640    0.188866  \n",
       "m_per1000f              -0.427697    0.213914  \n",
       "state_pop                0.464210    0.337474  \n",
       "nonwhites_per1000        0.230398    0.032599  \n",
       "unemploy_m24            -0.169853   -0.050478  \n",
       "unemploy_m39             0.101358    0.177321  \n",
       "gdp                      0.000649    0.441320  \n",
       "inequality               0.101823   -0.179024  \n",
       "prob_prison             -0.436246   -0.427422  \n",
       "time_prison              1.000000    0.149866  \n",
       "crime_rate               0.149866    1.000000  "
      ]
     },
     "execution_count": 74,
     "metadata": {},
     "output_type": "execute_result"
    }
   ],
   "source": [
    "crime.corr()"
   ]
  },
  {
   "cell_type": "code",
   "execution_count": 75,
   "id": "e2acbdb7",
   "metadata": {},
   "outputs": [
    {
     "data": {
      "text/html": [
       "        <script type=\"text/javascript\">\n",
       "        window.PlotlyConfig = {MathJaxConfig: 'local'};\n",
       "        if (window.MathJax && window.MathJax.Hub && window.MathJax.Hub.Config) {window.MathJax.Hub.Config({SVG: {font: \"STIX-Web\"}});}\n",
       "        if (typeof require !== 'undefined') {\n",
       "        require.undef(\"plotly\");\n",
       "        requirejs.config({\n",
       "            paths: {\n",
       "                'plotly': ['https://cdn.plot.ly/plotly-2.26.0.min']\n",
       "            }\n",
       "        });\n",
       "        require(['plotly'], function(Plotly) {\n",
       "            window._Plotly = Plotly;\n",
       "        });\n",
       "        }\n",
       "        </script>\n",
       "        "
      ]
     },
     "metadata": {},
     "output_type": "display_data"
    },
    {
     "data": {
      "text/html": [
       "<div>                            <div id=\"a233cf22-ac6d-40a5-8089-302d7167003a\" class=\"plotly-graph-div\" style=\"height:1000px; width:1000px;\"></div>            <script type=\"text/javascript\">                require([\"plotly\"], function(Plotly) {                    window.PLOTLYENV=window.PLOTLYENV || {};                                    if (document.getElementById(\"a233cf22-ac6d-40a5-8089-302d7167003a\")) {                    Plotly.newPlot(                        \"a233cf22-ac6d-40a5-8089-302d7167003a\",                        [{\"coloraxis\":\"coloraxis\",\"name\":\"0\",\"texttemplate\":\"%{z}\",\"x\":[\"percent_m\",\"is_south\",\"mean_education\",\"police_exp60\",\"police_exp59\",\"labour_participation\",\"m_per1000f\",\"state_pop\",\"nonwhites_per1000\",\"unemploy_m24\",\"unemploy_m39\",\"gdp\",\"inequality\",\"prob_prison\",\"time_prison\",\"crime_rate\"],\"y\":[\"percent_m\",\"is_south\",\"mean_education\",\"police_exp60\",\"police_exp59\",\"labour_participation\",\"m_per1000f\",\"state_pop\",\"nonwhites_per1000\",\"unemploy_m24\",\"unemploy_m39\",\"gdp\",\"inequality\",\"prob_prison\",\"time_prison\",\"crime_rate\"],\"z\":[[1.0,0.58,-0.53,-0.51,-0.51,-0.16,-0.03,-0.28,0.59,-0.22,-0.24,-0.67,0.64,0.36,0.11,-0.09],[0.58,1.0,-0.7,-0.37,-0.38,-0.51,-0.31,-0.05,0.77,-0.17,0.07,-0.64,0.74,0.53,0.07,-0.09],[-0.53,-0.7,1.0,0.48,0.5,0.56,0.44,-0.02,-0.66,0.02,-0.22,0.74,-0.77,-0.39,-0.25,0.32],[-0.51,-0.37,0.48,1.0,0.99,0.12,0.03,0.53,-0.21,-0.04,0.19,0.79,-0.63,-0.47,0.1,0.69],[-0.51,-0.38,0.5,0.99,1.0,0.11,0.02,0.51,-0.22,-0.05,0.17,0.79,-0.65,-0.47,0.08,0.67],[-0.16,-0.51,0.56,0.12,0.11,1.0,0.51,-0.12,-0.34,-0.23,-0.42,0.29,-0.27,-0.25,-0.12,0.19],[-0.03,-0.31,0.44,0.03,0.02,0.51,1.0,-0.41,-0.33,0.35,-0.02,0.18,-0.17,-0.05,-0.43,0.21],[-0.28,-0.05,-0.02,0.53,0.51,-0.12,-0.41,1.0,0.1,-0.04,0.27,0.31,-0.13,-0.35,0.46,0.34],[0.59,0.77,-0.66,-0.21,-0.22,-0.34,-0.33,0.1,1.0,-0.16,0.08,-0.59,0.68,0.43,0.23,0.03],[-0.22,-0.17,0.02,-0.04,-0.05,-0.23,0.35,-0.04,-0.16,1.0,0.75,0.04,-0.06,-0.01,-0.17,-0.05],[-0.24,0.07,-0.22,0.19,0.17,-0.42,-0.02,0.27,0.08,0.75,1.0,0.09,0.02,-0.06,0.1,0.18],[-0.67,-0.64,0.74,0.79,0.79,0.29,0.18,0.31,-0.59,0.04,0.09,1.0,-0.88,-0.56,0.0,0.44],[0.64,0.74,-0.77,-0.63,-0.65,-0.27,-0.17,-0.13,0.68,-0.06,0.02,-0.88,1.0,0.47,0.1,-0.18],[0.36,0.53,-0.39,-0.47,-0.47,-0.25,-0.05,-0.35,0.43,-0.01,-0.06,-0.56,0.47,1.0,-0.44,-0.43],[0.11,0.07,-0.25,0.1,0.08,-0.12,-0.43,0.46,0.23,-0.17,0.1,0.0,0.1,-0.44,1.0,0.15],[-0.09,-0.09,0.32,0.69,0.67,0.19,0.21,0.34,0.03,-0.05,0.18,0.44,-0.18,-0.43,0.15,1.0]],\"type\":\"heatmap\",\"xaxis\":\"x\",\"yaxis\":\"y\",\"hoverinfo\":\"none\"}],                        {\"template\":{\"data\":{\"histogram2dcontour\":[{\"type\":\"histogram2dcontour\",\"colorbar\":{\"outlinewidth\":0,\"ticks\":\"\"},\"colorscale\":[[0.0,\"#0d0887\"],[0.1111111111111111,\"#46039f\"],[0.2222222222222222,\"#7201a8\"],[0.3333333333333333,\"#9c179e\"],[0.4444444444444444,\"#bd3786\"],[0.5555555555555556,\"#d8576b\"],[0.6666666666666666,\"#ed7953\"],[0.7777777777777778,\"#fb9f3a\"],[0.8888888888888888,\"#fdca26\"],[1.0,\"#f0f921\"]]}],\"choropleth\":[{\"type\":\"choropleth\",\"colorbar\":{\"outlinewidth\":0,\"ticks\":\"\"}}],\"histogram2d\":[{\"type\":\"histogram2d\",\"colorbar\":{\"outlinewidth\":0,\"ticks\":\"\"},\"colorscale\":[[0.0,\"#0d0887\"],[0.1111111111111111,\"#46039f\"],[0.2222222222222222,\"#7201a8\"],[0.3333333333333333,\"#9c179e\"],[0.4444444444444444,\"#bd3786\"],[0.5555555555555556,\"#d8576b\"],[0.6666666666666666,\"#ed7953\"],[0.7777777777777778,\"#fb9f3a\"],[0.8888888888888888,\"#fdca26\"],[1.0,\"#f0f921\"]]}],\"heatmap\":[{\"type\":\"heatmap\",\"colorbar\":{\"outlinewidth\":0,\"ticks\":\"\"},\"colorscale\":[[0.0,\"#0d0887\"],[0.1111111111111111,\"#46039f\"],[0.2222222222222222,\"#7201a8\"],[0.3333333333333333,\"#9c179e\"],[0.4444444444444444,\"#bd3786\"],[0.5555555555555556,\"#d8576b\"],[0.6666666666666666,\"#ed7953\"],[0.7777777777777778,\"#fb9f3a\"],[0.8888888888888888,\"#fdca26\"],[1.0,\"#f0f921\"]]}],\"heatmapgl\":[{\"type\":\"heatmapgl\",\"colorbar\":{\"outlinewidth\":0,\"ticks\":\"\"},\"colorscale\":[[0.0,\"#0d0887\"],[0.1111111111111111,\"#46039f\"],[0.2222222222222222,\"#7201a8\"],[0.3333333333333333,\"#9c179e\"],[0.4444444444444444,\"#bd3786\"],[0.5555555555555556,\"#d8576b\"],[0.6666666666666666,\"#ed7953\"],[0.7777777777777778,\"#fb9f3a\"],[0.8888888888888888,\"#fdca26\"],[1.0,\"#f0f921\"]]}],\"contourcarpet\":[{\"type\":\"contourcarpet\",\"colorbar\":{\"outlinewidth\":0,\"ticks\":\"\"}}],\"contour\":[{\"type\":\"contour\",\"colorbar\":{\"outlinewidth\":0,\"ticks\":\"\"},\"colorscale\":[[0.0,\"#0d0887\"],[0.1111111111111111,\"#46039f\"],[0.2222222222222222,\"#7201a8\"],[0.3333333333333333,\"#9c179e\"],[0.4444444444444444,\"#bd3786\"],[0.5555555555555556,\"#d8576b\"],[0.6666666666666666,\"#ed7953\"],[0.7777777777777778,\"#fb9f3a\"],[0.8888888888888888,\"#fdca26\"],[1.0,\"#f0f921\"]]}],\"surface\":[{\"type\":\"surface\",\"colorbar\":{\"outlinewidth\":0,\"ticks\":\"\"},\"colorscale\":[[0.0,\"#0d0887\"],[0.1111111111111111,\"#46039f\"],[0.2222222222222222,\"#7201a8\"],[0.3333333333333333,\"#9c179e\"],[0.4444444444444444,\"#bd3786\"],[0.5555555555555556,\"#d8576b\"],[0.6666666666666666,\"#ed7953\"],[0.7777777777777778,\"#fb9f3a\"],[0.8888888888888888,\"#fdca26\"],[1.0,\"#f0f921\"]]}],\"mesh3d\":[{\"type\":\"mesh3d\",\"colorbar\":{\"outlinewidth\":0,\"ticks\":\"\"}}],\"scatter\":[{\"fillpattern\":{\"fillmode\":\"overlay\",\"size\":10,\"solidity\":0.2},\"type\":\"scatter\"}],\"parcoords\":[{\"type\":\"parcoords\",\"line\":{\"colorbar\":{\"outlinewidth\":0,\"ticks\":\"\"}}}],\"scatterpolargl\":[{\"type\":\"scatterpolargl\",\"marker\":{\"colorbar\":{\"outlinewidth\":0,\"ticks\":\"\"}}}],\"bar\":[{\"error_x\":{\"color\":\"#2a3f5f\"},\"error_y\":{\"color\":\"#2a3f5f\"},\"marker\":{\"line\":{\"color\":\"#E5ECF6\",\"width\":0.5},\"pattern\":{\"fillmode\":\"overlay\",\"size\":10,\"solidity\":0.2}},\"type\":\"bar\"}],\"scattergeo\":[{\"type\":\"scattergeo\",\"marker\":{\"colorbar\":{\"outlinewidth\":0,\"ticks\":\"\"}}}],\"scatterpolar\":[{\"type\":\"scatterpolar\",\"marker\":{\"colorbar\":{\"outlinewidth\":0,\"ticks\":\"\"}}}],\"histogram\":[{\"marker\":{\"pattern\":{\"fillmode\":\"overlay\",\"size\":10,\"solidity\":0.2}},\"type\":\"histogram\"}],\"scattergl\":[{\"type\":\"scattergl\",\"marker\":{\"colorbar\":{\"outlinewidth\":0,\"ticks\":\"\"}}}],\"scatter3d\":[{\"type\":\"scatter3d\",\"line\":{\"colorbar\":{\"outlinewidth\":0,\"ticks\":\"\"}},\"marker\":{\"colorbar\":{\"outlinewidth\":0,\"ticks\":\"\"}}}],\"scattermapbox\":[{\"type\":\"scattermapbox\",\"marker\":{\"colorbar\":{\"outlinewidth\":0,\"ticks\":\"\"}}}],\"scatterternary\":[{\"type\":\"scatterternary\",\"marker\":{\"colorbar\":{\"outlinewidth\":0,\"ticks\":\"\"}}}],\"scattercarpet\":[{\"type\":\"scattercarpet\",\"marker\":{\"colorbar\":{\"outlinewidth\":0,\"ticks\":\"\"}}}],\"carpet\":[{\"aaxis\":{\"endlinecolor\":\"#2a3f5f\",\"gridcolor\":\"white\",\"linecolor\":\"white\",\"minorgridcolor\":\"white\",\"startlinecolor\":\"#2a3f5f\"},\"baxis\":{\"endlinecolor\":\"#2a3f5f\",\"gridcolor\":\"white\",\"linecolor\":\"white\",\"minorgridcolor\":\"white\",\"startlinecolor\":\"#2a3f5f\"},\"type\":\"carpet\"}],\"table\":[{\"cells\":{\"fill\":{\"color\":\"#EBF0F8\"},\"line\":{\"color\":\"white\"}},\"header\":{\"fill\":{\"color\":\"#C8D4E3\"},\"line\":{\"color\":\"white\"}},\"type\":\"table\"}],\"barpolar\":[{\"marker\":{\"line\":{\"color\":\"#E5ECF6\",\"width\":0.5},\"pattern\":{\"fillmode\":\"overlay\",\"size\":10,\"solidity\":0.2}},\"type\":\"barpolar\"}],\"pie\":[{\"automargin\":true,\"type\":\"pie\"}]},\"layout\":{\"autotypenumbers\":\"strict\",\"colorway\":[\"#636efa\",\"#EF553B\",\"#00cc96\",\"#ab63fa\",\"#FFA15A\",\"#19d3f3\",\"#FF6692\",\"#B6E880\",\"#FF97FF\",\"#FECB52\"],\"font\":{\"color\":\"#2a3f5f\"},\"hovermode\":\"closest\",\"hoverlabel\":{\"align\":\"left\"},\"paper_bgcolor\":\"white\",\"plot_bgcolor\":\"#E5ECF6\",\"polar\":{\"bgcolor\":\"#E5ECF6\",\"angularaxis\":{\"gridcolor\":\"white\",\"linecolor\":\"white\",\"ticks\":\"\"},\"radialaxis\":{\"gridcolor\":\"white\",\"linecolor\":\"white\",\"ticks\":\"\"}},\"ternary\":{\"bgcolor\":\"#E5ECF6\",\"aaxis\":{\"gridcolor\":\"white\",\"linecolor\":\"white\",\"ticks\":\"\"},\"baxis\":{\"gridcolor\":\"white\",\"linecolor\":\"white\",\"ticks\":\"\"},\"caxis\":{\"gridcolor\":\"white\",\"linecolor\":\"white\",\"ticks\":\"\"}},\"coloraxis\":{\"colorbar\":{\"outlinewidth\":0,\"ticks\":\"\"}},\"colorscale\":{\"sequential\":[[0.0,\"#0d0887\"],[0.1111111111111111,\"#46039f\"],[0.2222222222222222,\"#7201a8\"],[0.3333333333333333,\"#9c179e\"],[0.4444444444444444,\"#bd3786\"],[0.5555555555555556,\"#d8576b\"],[0.6666666666666666,\"#ed7953\"],[0.7777777777777778,\"#fb9f3a\"],[0.8888888888888888,\"#fdca26\"],[1.0,\"#f0f921\"]],\"sequentialminus\":[[0.0,\"#0d0887\"],[0.1111111111111111,\"#46039f\"],[0.2222222222222222,\"#7201a8\"],[0.3333333333333333,\"#9c179e\"],[0.4444444444444444,\"#bd3786\"],[0.5555555555555556,\"#d8576b\"],[0.6666666666666666,\"#ed7953\"],[0.7777777777777778,\"#fb9f3a\"],[0.8888888888888888,\"#fdca26\"],[1.0,\"#f0f921\"]],\"diverging\":[[0,\"#8e0152\"],[0.1,\"#c51b7d\"],[0.2,\"#de77ae\"],[0.3,\"#f1b6da\"],[0.4,\"#fde0ef\"],[0.5,\"#f7f7f7\"],[0.6,\"#e6f5d0\"],[0.7,\"#b8e186\"],[0.8,\"#7fbc41\"],[0.9,\"#4d9221\"],[1,\"#276419\"]]},\"xaxis\":{\"gridcolor\":\"white\",\"linecolor\":\"white\",\"ticks\":\"\",\"title\":{\"standoff\":15},\"zerolinecolor\":\"white\",\"automargin\":true,\"zerolinewidth\":2},\"yaxis\":{\"gridcolor\":\"white\",\"linecolor\":\"white\",\"ticks\":\"\",\"title\":{\"standoff\":15},\"zerolinecolor\":\"white\",\"automargin\":true,\"zerolinewidth\":2},\"scene\":{\"xaxis\":{\"backgroundcolor\":\"#E5ECF6\",\"gridcolor\":\"white\",\"linecolor\":\"white\",\"showbackground\":true,\"ticks\":\"\",\"zerolinecolor\":\"white\",\"gridwidth\":2},\"yaxis\":{\"backgroundcolor\":\"#E5ECF6\",\"gridcolor\":\"white\",\"linecolor\":\"white\",\"showbackground\":true,\"ticks\":\"\",\"zerolinecolor\":\"white\",\"gridwidth\":2},\"zaxis\":{\"backgroundcolor\":\"#E5ECF6\",\"gridcolor\":\"white\",\"linecolor\":\"white\",\"showbackground\":true,\"ticks\":\"\",\"zerolinecolor\":\"white\",\"gridwidth\":2}},\"shapedefaults\":{\"line\":{\"color\":\"#2a3f5f\"}},\"annotationdefaults\":{\"arrowcolor\":\"#2a3f5f\",\"arrowhead\":0,\"arrowwidth\":1},\"geo\":{\"bgcolor\":\"white\",\"landcolor\":\"#E5ECF6\",\"subunitcolor\":\"white\",\"showland\":true,\"showlakes\":true,\"lakecolor\":\"white\"},\"title\":{\"x\":0.05},\"mapbox\":{\"style\":\"light\"}}},\"xaxis\":{\"anchor\":\"y\",\"domain\":[0.0,1.0],\"scaleanchor\":\"y\",\"constrain\":\"domain\"},\"yaxis\":{\"anchor\":\"x\",\"domain\":[0.0,1.0],\"autorange\":\"reversed\",\"constrain\":\"domain\"},\"coloraxis\":{\"colorscale\":[[0.0,\"rgb(255,245,240)\"],[0.125,\"rgb(254,224,210)\"],[0.25,\"rgb(252,187,161)\"],[0.375,\"rgb(252,146,114)\"],[0.5,\"rgb(251,106,74)\"],[0.625,\"rgb(239,59,44)\"],[0.75,\"rgb(203,24,29)\"],[0.875,\"rgb(165,15,21)\"],[1.0,\"rgb(103,0,13)\"]]},\"margin\":{\"t\":60},\"title\":{\"text\":\"Correlation Heatmap\",\"x\":0.5},\"width\":1000,\"height\":1000},                        {\"responsive\": true}                    ).then(function(){\n",
       "                            \n",
       "var gd = document.getElementById('a233cf22-ac6d-40a5-8089-302d7167003a');\n",
       "var x = new MutationObserver(function (mutations, observer) {{\n",
       "        var display = window.getComputedStyle(gd).display;\n",
       "        if (!display || display === 'none') {{\n",
       "            console.log([gd, 'removed!']);\n",
       "            Plotly.purge(gd);\n",
       "            observer.disconnect();\n",
       "        }}\n",
       "}});\n",
       "\n",
       "// Listen for the removal of the full notebook cells\n",
       "var notebookContainer = gd.closest('#notebook-container');\n",
       "if (notebookContainer) {{\n",
       "    x.observe(notebookContainer, {childList: true});\n",
       "}}\n",
       "\n",
       "// Listen for the clearing of the current output cell\n",
       "var outputEl = gd.closest('.output');\n",
       "if (outputEl) {{\n",
       "    x.observe(outputEl, {childList: true});\n",
       "}}\n",
       "\n",
       "                        })                };                });            </script>        </div>"
      ]
     },
     "metadata": {},
     "output_type": "display_data"
    }
   ],
   "source": [
    "import plotly.express as px\n",
    "\n",
    "# Mask to matrix\n",
    "z = crime.corr().round(2).to_numpy() # mengubah dataframe ke matrix (list of lists)\n",
    "fig = px.imshow(z, \n",
    "                x=pd.unique(crime.corr().columns.to_frame()[0]), # ambil nama index dari multiindex dataframe not sorted\n",
    "                y=pd.unique(crime.corr().columns.to_frame()[0]),\n",
    "                color_continuous_scale='Reds',\n",
    "                text_auto=True) # memperlihatkan nilai korelasi dalam kotak heatmap\n",
    "\n",
    "fig.update_traces(hoverinfo='none', hovertemplate=None) # disable hover text\n",
    "\n",
    "# plotly figure layout\n",
    "fig.update_layout(title = 'Correlation Heatmap', \n",
    "                  title_x = 0.5, # posisi title\n",
    "                  width=1000, height=1000)\n",
    "\n",
    "\n",
    "fig.show()"
   ]
  },
  {
   "cell_type": "markdown",
   "id": "0460d5d4",
   "metadata": {},
   "source": [
    "> There is a fairly strong correlation between predictors (apart from the crime_rate column, which will be the target column), especially in police_exp59 and police_exp60."
   ]
  },
  {
   "cell_type": "markdown",
   "id": "0bf1fa90",
   "metadata": {},
   "source": [
    "## Data Pre-processing: Scalling "
   ]
  },
  {
   "cell_type": "markdown",
   "id": "dfc07ad4",
   "metadata": {},
   "source": [
    "Normalize the `crime` dataframe so that each predictor has the same scale. Using Z-score standardization for scaling numeric datasets with the [StandardScaler()](https://scikit-learn.org/stable/modules/generated/sklearn.preprocessing.StandardScaler.html#sklearn.preprocessing.StandardScaler) function in the sklearn library:"
   ]
  },
  {
   "cell_type": "code",
   "execution_count": 76,
   "id": "db272f69",
   "metadata": {},
   "outputs": [
    {
     "data": {
      "text/html": [
       "<div>\n",
       "<style scoped>\n",
       "    .dataframe tbody tr th:only-of-type {\n",
       "        vertical-align: middle;\n",
       "    }\n",
       "\n",
       "    .dataframe tbody tr th {\n",
       "        vertical-align: top;\n",
       "    }\n",
       "\n",
       "    .dataframe thead th {\n",
       "        text-align: right;\n",
       "    }\n",
       "</style>\n",
       "<table border=\"1\" class=\"dataframe\">\n",
       "  <thead>\n",
       "    <tr style=\"text-align: right;\">\n",
       "      <th></th>\n",
       "      <th>percent_m</th>\n",
       "      <th>is_south</th>\n",
       "      <th>mean_education</th>\n",
       "      <th>police_exp60</th>\n",
       "      <th>police_exp59</th>\n",
       "      <th>labour_participation</th>\n",
       "      <th>m_per1000f</th>\n",
       "      <th>state_pop</th>\n",
       "      <th>nonwhites_per1000</th>\n",
       "      <th>unemploy_m24</th>\n",
       "      <th>unemploy_m39</th>\n",
       "      <th>gdp</th>\n",
       "      <th>inequality</th>\n",
       "      <th>prob_prison</th>\n",
       "      <th>time_prison</th>\n",
       "      <th>crime_rate</th>\n",
       "    </tr>\n",
       "  </thead>\n",
       "  <tbody>\n",
       "    <tr>\n",
       "      <th>1</th>\n",
       "      <td>151</td>\n",
       "      <td>1</td>\n",
       "      <td>91</td>\n",
       "      <td>58</td>\n",
       "      <td>56</td>\n",
       "      <td>510</td>\n",
       "      <td>950</td>\n",
       "      <td>33</td>\n",
       "      <td>301</td>\n",
       "      <td>108</td>\n",
       "      <td>41</td>\n",
       "      <td>394</td>\n",
       "      <td>261</td>\n",
       "      <td>0.084602</td>\n",
       "      <td>26.2011</td>\n",
       "      <td>791</td>\n",
       "    </tr>\n",
       "    <tr>\n",
       "      <th>2</th>\n",
       "      <td>143</td>\n",
       "      <td>0</td>\n",
       "      <td>113</td>\n",
       "      <td>103</td>\n",
       "      <td>95</td>\n",
       "      <td>583</td>\n",
       "      <td>1012</td>\n",
       "      <td>13</td>\n",
       "      <td>102</td>\n",
       "      <td>96</td>\n",
       "      <td>36</td>\n",
       "      <td>557</td>\n",
       "      <td>194</td>\n",
       "      <td>0.029599</td>\n",
       "      <td>25.2999</td>\n",
       "      <td>1635</td>\n",
       "    </tr>\n",
       "    <tr>\n",
       "      <th>3</th>\n",
       "      <td>142</td>\n",
       "      <td>1</td>\n",
       "      <td>89</td>\n",
       "      <td>45</td>\n",
       "      <td>44</td>\n",
       "      <td>533</td>\n",
       "      <td>969</td>\n",
       "      <td>18</td>\n",
       "      <td>219</td>\n",
       "      <td>94</td>\n",
       "      <td>33</td>\n",
       "      <td>318</td>\n",
       "      <td>250</td>\n",
       "      <td>0.083401</td>\n",
       "      <td>24.3006</td>\n",
       "      <td>578</td>\n",
       "    </tr>\n",
       "  </tbody>\n",
       "</table>\n",
       "</div>"
      ],
      "text/plain": [
       "   percent_m  is_south  mean_education  police_exp60  police_exp59  \\\n",
       "1        151         1              91            58            56   \n",
       "2        143         0             113           103            95   \n",
       "3        142         1              89            45            44   \n",
       "\n",
       "   labour_participation  m_per1000f  state_pop  nonwhites_per1000  \\\n",
       "1                   510         950         33                301   \n",
       "2                   583        1012         13                102   \n",
       "3                   533         969         18                219   \n",
       "\n",
       "   unemploy_m24  unemploy_m39  gdp  inequality  prob_prison  time_prison  \\\n",
       "1           108            41  394         261     0.084602      26.2011   \n",
       "2            96            36  557         194     0.029599      25.2999   \n",
       "3            94            33  318         250     0.083401      24.3006   \n",
       "\n",
       "   crime_rate  \n",
       "1         791  \n",
       "2        1635  \n",
       "3         578  "
      ]
     },
     "execution_count": 76,
     "metadata": {},
     "output_type": "execute_result"
    }
   ],
   "source": [
    "crime.head(3)"
   ]
  },
  {
   "cell_type": "code",
   "execution_count": 77,
   "id": "fd3b1dfb",
   "metadata": {},
   "outputs": [],
   "source": [
    "crime_scaled = StandardScaler().fit_transform(crime.drop(columns='crime_rate').values)"
   ]
  },
  {
   "cell_type": "markdown",
   "id": "b73c9bc3",
   "metadata": {},
   "source": [
    "## Data Pre-processing: PCA "
   ]
  },
  {
   "cell_type": "markdown",
   "id": "41da32b3",
   "metadata": {},
   "source": [
    "Principal Component Analysis using the [sklearn library](https://scikit-learn.org/stable/modules/generated/sklearn.decomposition.PCA.html) only on the predictor column."
   ]
  },
  {
   "cell_type": "code",
   "execution_count": 78,
   "id": "7bc8226b",
   "metadata": {},
   "outputs": [
    {
     "data": {
      "text/html": [
       "<style>#sk-container-id-3 {color: black;}#sk-container-id-3 pre{padding: 0;}#sk-container-id-3 div.sk-toggleable {background-color: white;}#sk-container-id-3 label.sk-toggleable__label {cursor: pointer;display: block;width: 100%;margin-bottom: 0;padding: 0.3em;box-sizing: border-box;text-align: center;}#sk-container-id-3 label.sk-toggleable__label-arrow:before {content: \"▸\";float: left;margin-right: 0.25em;color: #696969;}#sk-container-id-3 label.sk-toggleable__label-arrow:hover:before {color: black;}#sk-container-id-3 div.sk-estimator:hover label.sk-toggleable__label-arrow:before {color: black;}#sk-container-id-3 div.sk-toggleable__content {max-height: 0;max-width: 0;overflow: hidden;text-align: left;background-color: #f0f8ff;}#sk-container-id-3 div.sk-toggleable__content pre {margin: 0.2em;color: black;border-radius: 0.25em;background-color: #f0f8ff;}#sk-container-id-3 input.sk-toggleable__control:checked~div.sk-toggleable__content {max-height: 200px;max-width: 100%;overflow: auto;}#sk-container-id-3 input.sk-toggleable__control:checked~label.sk-toggleable__label-arrow:before {content: \"▾\";}#sk-container-id-3 div.sk-estimator input.sk-toggleable__control:checked~label.sk-toggleable__label {background-color: #d4ebff;}#sk-container-id-3 div.sk-label input.sk-toggleable__control:checked~label.sk-toggleable__label {background-color: #d4ebff;}#sk-container-id-3 input.sk-hidden--visually {border: 0;clip: rect(1px 1px 1px 1px);clip: rect(1px, 1px, 1px, 1px);height: 1px;margin: -1px;overflow: hidden;padding: 0;position: absolute;width: 1px;}#sk-container-id-3 div.sk-estimator {font-family: monospace;background-color: #f0f8ff;border: 1px dotted black;border-radius: 0.25em;box-sizing: border-box;margin-bottom: 0.5em;}#sk-container-id-3 div.sk-estimator:hover {background-color: #d4ebff;}#sk-container-id-3 div.sk-parallel-item::after {content: \"\";width: 100%;border-bottom: 1px solid gray;flex-grow: 1;}#sk-container-id-3 div.sk-label:hover label.sk-toggleable__label {background-color: #d4ebff;}#sk-container-id-3 div.sk-serial::before {content: \"\";position: absolute;border-left: 1px solid gray;box-sizing: border-box;top: 0;bottom: 0;left: 50%;z-index: 0;}#sk-container-id-3 div.sk-serial {display: flex;flex-direction: column;align-items: center;background-color: white;padding-right: 0.2em;padding-left: 0.2em;position: relative;}#sk-container-id-3 div.sk-item {position: relative;z-index: 1;}#sk-container-id-3 div.sk-parallel {display: flex;align-items: stretch;justify-content: center;background-color: white;position: relative;}#sk-container-id-3 div.sk-item::before, #sk-container-id-3 div.sk-parallel-item::before {content: \"\";position: absolute;border-left: 1px solid gray;box-sizing: border-box;top: 0;bottom: 0;left: 50%;z-index: -1;}#sk-container-id-3 div.sk-parallel-item {display: flex;flex-direction: column;z-index: 1;position: relative;background-color: white;}#sk-container-id-3 div.sk-parallel-item:first-child::after {align-self: flex-end;width: 50%;}#sk-container-id-3 div.sk-parallel-item:last-child::after {align-self: flex-start;width: 50%;}#sk-container-id-3 div.sk-parallel-item:only-child::after {width: 0;}#sk-container-id-3 div.sk-dashed-wrapped {border: 1px dashed gray;margin: 0 0.4em 0.5em 0.4em;box-sizing: border-box;padding-bottom: 0.4em;background-color: white;}#sk-container-id-3 div.sk-label label {font-family: monospace;font-weight: bold;display: inline-block;line-height: 1.2em;}#sk-container-id-3 div.sk-label-container {text-align: center;}#sk-container-id-3 div.sk-container {/* jupyter's `normalize.less` sets `[hidden] { display: none; }` but bootstrap.min.css set `[hidden] { display: none !important; }` so we also need the `!important` here to be able to override the default hidden behavior on the sphinx rendered scikit-learn.org. See: https://github.com/scikit-learn/scikit-learn/issues/21755 */display: inline-block !important;position: relative;}#sk-container-id-3 div.sk-text-repr-fallback {display: none;}</style><div id=\"sk-container-id-3\" class=\"sk-top-container\"><div class=\"sk-text-repr-fallback\"><pre>PCA(svd_solver=&#x27;full&#x27;)</pre><b>In a Jupyter environment, please rerun this cell to show the HTML representation or trust the notebook. <br />On GitHub, the HTML representation is unable to render, please try loading this page with nbviewer.org.</b></div><div class=\"sk-container\" hidden><div class=\"sk-item\"><div class=\"sk-estimator sk-toggleable\"><input class=\"sk-toggleable__control sk-hidden--visually\" id=\"sk-estimator-id-3\" type=\"checkbox\" checked><label for=\"sk-estimator-id-3\" class=\"sk-toggleable__label sk-toggleable__label-arrow\">PCA</label><div class=\"sk-toggleable__content\"><pre>PCA(svd_solver=&#x27;full&#x27;)</pre></div></div></div></div></div>"
      ],
      "text/plain": [
       "PCA(svd_solver='full')"
      ]
     },
     "execution_count": 78,
     "metadata": {},
     "output_type": "execute_result"
    }
   ],
   "source": [
    "# inisialisasi objek PCA\n",
    "pca = PCA(svd_solver='full') # implementasi full svd sehingga mendapatkan semua PC yang terbentuk\n",
    "            \n",
    "\n",
    "pca.fit(crime_scaled) # menghitung PCA"
   ]
  },
  {
   "cell_type": "code",
   "execution_count": 79,
   "id": "0bfa5170",
   "metadata": {},
   "outputs": [
    {
     "data": {
      "text/plain": [
       "15"
      ]
     },
     "execution_count": 79,
     "metadata": {},
     "output_type": "execute_result"
    }
   ],
   "source": [
    "# displays the number of PCs formed\n",
    "pca.n_components_"
   ]
  },
  {
   "cell_type": "markdown",
   "id": "e7ac9108",
   "metadata": {},
   "source": [
    "See the proportion of information values that can be captured for each PC with the `explained_variance_ratio_` attribute:"
   ]
  },
  {
   "cell_type": "code",
   "execution_count": 80,
   "id": "4ea5b841",
   "metadata": {},
   "outputs": [
    {
     "data": {
      "text/plain": [
       "array([4.01263510e-01, 1.86789802e-01, 1.33662956e-01, 7.74805200e-02,\n",
       "       6.38865981e-02, 3.68795933e-02, 2.14545791e-02, 2.04934180e-02,\n",
       "       1.56770195e-02, 1.33253954e-02, 1.17123602e-02, 8.54600716e-03,\n",
       "       4.62277942e-03, 3.89785100e-03, 3.07610984e-04])"
      ]
     },
     "execution_count": 80,
     "metadata": {},
     "output_type": "execute_result"
    }
   ],
   "source": [
    "pca.explained_variance_ratio_"
   ]
  },
  {
   "cell_type": "markdown",
   "id": "80ccfa88",
   "metadata": {},
   "source": [
    "View the cumulative proportion of information value that can be captured for each additional PC:"
   ]
  },
  {
   "cell_type": "code",
   "execution_count": 81,
   "id": "dedf652d",
   "metadata": {},
   "outputs": [
    {
     "data": {
      "text/plain": [
       "array([ 40.13,  58.81,  72.18,  79.93,  86.32,  90.01,  92.16,  94.21,\n",
       "        95.78,  97.11,  98.28,  99.13,  99.59,  99.98, 100.01])"
      ]
     },
     "execution_count": 81,
     "metadata": {},
     "output_type": "execute_result"
    }
   ],
   "source": [
    "np.cumsum(np.round(pca.explained_variance_ratio_, decimals=4)*100)"
   ]
  },
  {
   "cell_type": "markdown",
   "id": "ed6866bf",
   "metadata": {},
   "source": [
    "Visualization of explained variance using the [plotly library](https://plotly.com/python/pca-visualization/#plotting-explained-variance)"
   ]
  },
  {
   "cell_type": "code",
   "execution_count": 82,
   "id": "478773e3",
   "metadata": {},
   "outputs": [
    {
     "data": {
      "text/html": [
       "<div>                            <div id=\"a7a311fe-efac-4314-bf07-34a75cf1c45f\" class=\"plotly-graph-div\" style=\"height:525px; width:100%;\"></div>            <script type=\"text/javascript\">                require([\"plotly\"], function(Plotly) {                    window.PLOTLYENV=window.PLOTLYENV || {};                                    if (document.getElementById(\"a7a311fe-efac-4314-bf07-34a75cf1c45f\")) {                    Plotly.newPlot(                        \"a7a311fe-efac-4314-bf07-34a75cf1c45f\",                        [{\"fillpattern\":{\"shape\":\"\"},\"hovertemplate\":\"Jumlah Components=%{x}\\u003cbr\\u003eExplained Variance=%{y}\\u003cextra\\u003e\\u003c\\u002fextra\\u003e\",\"legendgroup\":\"\",\"line\":{\"color\":\"#636efa\"},\"marker\":{\"symbol\":\"circle\"},\"mode\":\"lines\",\"name\":\"\",\"orientation\":\"v\",\"showlegend\":false,\"stackgroup\":\"1\",\"x\":[1,2,3,4,5,6,7,8,9,10,11,12,13,14,15],\"xaxis\":\"x\",\"y\":[40.129999999999995,58.809999999999995,72.17999999999999,79.92999999999999,86.32,90.00999999999999,92.16,94.21,95.77999999999999,97.10999999999999,98.27999999999999,99.12999999999998,99.58999999999997,99.97999999999998,100.00999999999998],\"yaxis\":\"y\",\"type\":\"scatter\"}],                        {\"template\":{\"data\":{\"histogram2dcontour\":[{\"type\":\"histogram2dcontour\",\"colorbar\":{\"outlinewidth\":0,\"ticks\":\"\"},\"colorscale\":[[0.0,\"#0d0887\"],[0.1111111111111111,\"#46039f\"],[0.2222222222222222,\"#7201a8\"],[0.3333333333333333,\"#9c179e\"],[0.4444444444444444,\"#bd3786\"],[0.5555555555555556,\"#d8576b\"],[0.6666666666666666,\"#ed7953\"],[0.7777777777777778,\"#fb9f3a\"],[0.8888888888888888,\"#fdca26\"],[1.0,\"#f0f921\"]]}],\"choropleth\":[{\"type\":\"choropleth\",\"colorbar\":{\"outlinewidth\":0,\"ticks\":\"\"}}],\"histogram2d\":[{\"type\":\"histogram2d\",\"colorbar\":{\"outlinewidth\":0,\"ticks\":\"\"},\"colorscale\":[[0.0,\"#0d0887\"],[0.1111111111111111,\"#46039f\"],[0.2222222222222222,\"#7201a8\"],[0.3333333333333333,\"#9c179e\"],[0.4444444444444444,\"#bd3786\"],[0.5555555555555556,\"#d8576b\"],[0.6666666666666666,\"#ed7953\"],[0.7777777777777778,\"#fb9f3a\"],[0.8888888888888888,\"#fdca26\"],[1.0,\"#f0f921\"]]}],\"heatmap\":[{\"type\":\"heatmap\",\"colorbar\":{\"outlinewidth\":0,\"ticks\":\"\"},\"colorscale\":[[0.0,\"#0d0887\"],[0.1111111111111111,\"#46039f\"],[0.2222222222222222,\"#7201a8\"],[0.3333333333333333,\"#9c179e\"],[0.4444444444444444,\"#bd3786\"],[0.5555555555555556,\"#d8576b\"],[0.6666666666666666,\"#ed7953\"],[0.7777777777777778,\"#fb9f3a\"],[0.8888888888888888,\"#fdca26\"],[1.0,\"#f0f921\"]]}],\"heatmapgl\":[{\"type\":\"heatmapgl\",\"colorbar\":{\"outlinewidth\":0,\"ticks\":\"\"},\"colorscale\":[[0.0,\"#0d0887\"],[0.1111111111111111,\"#46039f\"],[0.2222222222222222,\"#7201a8\"],[0.3333333333333333,\"#9c179e\"],[0.4444444444444444,\"#bd3786\"],[0.5555555555555556,\"#d8576b\"],[0.6666666666666666,\"#ed7953\"],[0.7777777777777778,\"#fb9f3a\"],[0.8888888888888888,\"#fdca26\"],[1.0,\"#f0f921\"]]}],\"contourcarpet\":[{\"type\":\"contourcarpet\",\"colorbar\":{\"outlinewidth\":0,\"ticks\":\"\"}}],\"contour\":[{\"type\":\"contour\",\"colorbar\":{\"outlinewidth\":0,\"ticks\":\"\"},\"colorscale\":[[0.0,\"#0d0887\"],[0.1111111111111111,\"#46039f\"],[0.2222222222222222,\"#7201a8\"],[0.3333333333333333,\"#9c179e\"],[0.4444444444444444,\"#bd3786\"],[0.5555555555555556,\"#d8576b\"],[0.6666666666666666,\"#ed7953\"],[0.7777777777777778,\"#fb9f3a\"],[0.8888888888888888,\"#fdca26\"],[1.0,\"#f0f921\"]]}],\"surface\":[{\"type\":\"surface\",\"colorbar\":{\"outlinewidth\":0,\"ticks\":\"\"},\"colorscale\":[[0.0,\"#0d0887\"],[0.1111111111111111,\"#46039f\"],[0.2222222222222222,\"#7201a8\"],[0.3333333333333333,\"#9c179e\"],[0.4444444444444444,\"#bd3786\"],[0.5555555555555556,\"#d8576b\"],[0.6666666666666666,\"#ed7953\"],[0.7777777777777778,\"#fb9f3a\"],[0.8888888888888888,\"#fdca26\"],[1.0,\"#f0f921\"]]}],\"mesh3d\":[{\"type\":\"mesh3d\",\"colorbar\":{\"outlinewidth\":0,\"ticks\":\"\"}}],\"scatter\":[{\"fillpattern\":{\"fillmode\":\"overlay\",\"size\":10,\"solidity\":0.2},\"type\":\"scatter\"}],\"parcoords\":[{\"type\":\"parcoords\",\"line\":{\"colorbar\":{\"outlinewidth\":0,\"ticks\":\"\"}}}],\"scatterpolargl\":[{\"type\":\"scatterpolargl\",\"marker\":{\"colorbar\":{\"outlinewidth\":0,\"ticks\":\"\"}}}],\"bar\":[{\"error_x\":{\"color\":\"#2a3f5f\"},\"error_y\":{\"color\":\"#2a3f5f\"},\"marker\":{\"line\":{\"color\":\"#E5ECF6\",\"width\":0.5},\"pattern\":{\"fillmode\":\"overlay\",\"size\":10,\"solidity\":0.2}},\"type\":\"bar\"}],\"scattergeo\":[{\"type\":\"scattergeo\",\"marker\":{\"colorbar\":{\"outlinewidth\":0,\"ticks\":\"\"}}}],\"scatterpolar\":[{\"type\":\"scatterpolar\",\"marker\":{\"colorbar\":{\"outlinewidth\":0,\"ticks\":\"\"}}}],\"histogram\":[{\"marker\":{\"pattern\":{\"fillmode\":\"overlay\",\"size\":10,\"solidity\":0.2}},\"type\":\"histogram\"}],\"scattergl\":[{\"type\":\"scattergl\",\"marker\":{\"colorbar\":{\"outlinewidth\":0,\"ticks\":\"\"}}}],\"scatter3d\":[{\"type\":\"scatter3d\",\"line\":{\"colorbar\":{\"outlinewidth\":0,\"ticks\":\"\"}},\"marker\":{\"colorbar\":{\"outlinewidth\":0,\"ticks\":\"\"}}}],\"scattermapbox\":[{\"type\":\"scattermapbox\",\"marker\":{\"colorbar\":{\"outlinewidth\":0,\"ticks\":\"\"}}}],\"scatterternary\":[{\"type\":\"scatterternary\",\"marker\":{\"colorbar\":{\"outlinewidth\":0,\"ticks\":\"\"}}}],\"scattercarpet\":[{\"type\":\"scattercarpet\",\"marker\":{\"colorbar\":{\"outlinewidth\":0,\"ticks\":\"\"}}}],\"carpet\":[{\"aaxis\":{\"endlinecolor\":\"#2a3f5f\",\"gridcolor\":\"white\",\"linecolor\":\"white\",\"minorgridcolor\":\"white\",\"startlinecolor\":\"#2a3f5f\"},\"baxis\":{\"endlinecolor\":\"#2a3f5f\",\"gridcolor\":\"white\",\"linecolor\":\"white\",\"minorgridcolor\":\"white\",\"startlinecolor\":\"#2a3f5f\"},\"type\":\"carpet\"}],\"table\":[{\"cells\":{\"fill\":{\"color\":\"#EBF0F8\"},\"line\":{\"color\":\"white\"}},\"header\":{\"fill\":{\"color\":\"#C8D4E3\"},\"line\":{\"color\":\"white\"}},\"type\":\"table\"}],\"barpolar\":[{\"marker\":{\"line\":{\"color\":\"#E5ECF6\",\"width\":0.5},\"pattern\":{\"fillmode\":\"overlay\",\"size\":10,\"solidity\":0.2}},\"type\":\"barpolar\"}],\"pie\":[{\"automargin\":true,\"type\":\"pie\"}]},\"layout\":{\"autotypenumbers\":\"strict\",\"colorway\":[\"#636efa\",\"#EF553B\",\"#00cc96\",\"#ab63fa\",\"#FFA15A\",\"#19d3f3\",\"#FF6692\",\"#B6E880\",\"#FF97FF\",\"#FECB52\"],\"font\":{\"color\":\"#2a3f5f\"},\"hovermode\":\"closest\",\"hoverlabel\":{\"align\":\"left\"},\"paper_bgcolor\":\"white\",\"plot_bgcolor\":\"#E5ECF6\",\"polar\":{\"bgcolor\":\"#E5ECF6\",\"angularaxis\":{\"gridcolor\":\"white\",\"linecolor\":\"white\",\"ticks\":\"\"},\"radialaxis\":{\"gridcolor\":\"white\",\"linecolor\":\"white\",\"ticks\":\"\"}},\"ternary\":{\"bgcolor\":\"#E5ECF6\",\"aaxis\":{\"gridcolor\":\"white\",\"linecolor\":\"white\",\"ticks\":\"\"},\"baxis\":{\"gridcolor\":\"white\",\"linecolor\":\"white\",\"ticks\":\"\"},\"caxis\":{\"gridcolor\":\"white\",\"linecolor\":\"white\",\"ticks\":\"\"}},\"coloraxis\":{\"colorbar\":{\"outlinewidth\":0,\"ticks\":\"\"}},\"colorscale\":{\"sequential\":[[0.0,\"#0d0887\"],[0.1111111111111111,\"#46039f\"],[0.2222222222222222,\"#7201a8\"],[0.3333333333333333,\"#9c179e\"],[0.4444444444444444,\"#bd3786\"],[0.5555555555555556,\"#d8576b\"],[0.6666666666666666,\"#ed7953\"],[0.7777777777777778,\"#fb9f3a\"],[0.8888888888888888,\"#fdca26\"],[1.0,\"#f0f921\"]],\"sequentialminus\":[[0.0,\"#0d0887\"],[0.1111111111111111,\"#46039f\"],[0.2222222222222222,\"#7201a8\"],[0.3333333333333333,\"#9c179e\"],[0.4444444444444444,\"#bd3786\"],[0.5555555555555556,\"#d8576b\"],[0.6666666666666666,\"#ed7953\"],[0.7777777777777778,\"#fb9f3a\"],[0.8888888888888888,\"#fdca26\"],[1.0,\"#f0f921\"]],\"diverging\":[[0,\"#8e0152\"],[0.1,\"#c51b7d\"],[0.2,\"#de77ae\"],[0.3,\"#f1b6da\"],[0.4,\"#fde0ef\"],[0.5,\"#f7f7f7\"],[0.6,\"#e6f5d0\"],[0.7,\"#b8e186\"],[0.8,\"#7fbc41\"],[0.9,\"#4d9221\"],[1,\"#276419\"]]},\"xaxis\":{\"gridcolor\":\"white\",\"linecolor\":\"white\",\"ticks\":\"\",\"title\":{\"standoff\":15},\"zerolinecolor\":\"white\",\"automargin\":true,\"zerolinewidth\":2},\"yaxis\":{\"gridcolor\":\"white\",\"linecolor\":\"white\",\"ticks\":\"\",\"title\":{\"standoff\":15},\"zerolinecolor\":\"white\",\"automargin\":true,\"zerolinewidth\":2},\"scene\":{\"xaxis\":{\"backgroundcolor\":\"#E5ECF6\",\"gridcolor\":\"white\",\"linecolor\":\"white\",\"showbackground\":true,\"ticks\":\"\",\"zerolinecolor\":\"white\",\"gridwidth\":2},\"yaxis\":{\"backgroundcolor\":\"#E5ECF6\",\"gridcolor\":\"white\",\"linecolor\":\"white\",\"showbackground\":true,\"ticks\":\"\",\"zerolinecolor\":\"white\",\"gridwidth\":2},\"zaxis\":{\"backgroundcolor\":\"#E5ECF6\",\"gridcolor\":\"white\",\"linecolor\":\"white\",\"showbackground\":true,\"ticks\":\"\",\"zerolinecolor\":\"white\",\"gridwidth\":2}},\"shapedefaults\":{\"line\":{\"color\":\"#2a3f5f\"}},\"annotationdefaults\":{\"arrowcolor\":\"#2a3f5f\",\"arrowhead\":0,\"arrowwidth\":1},\"geo\":{\"bgcolor\":\"white\",\"landcolor\":\"#E5ECF6\",\"subunitcolor\":\"white\",\"showland\":true,\"showlakes\":true,\"lakecolor\":\"white\"},\"title\":{\"x\":0.05},\"mapbox\":{\"style\":\"light\"}}},\"xaxis\":{\"anchor\":\"y\",\"domain\":[0.0,1.0],\"title\":{\"text\":\"Jumlah Components\"}},\"yaxis\":{\"anchor\":\"x\",\"domain\":[0.0,1.0],\"title\":{\"text\":\"Explained Variance\"}},\"legend\":{\"tracegroupgap\":0},\"margin\":{\"t\":60}},                        {\"responsive\": true}                    ).then(function(){\n",
       "                            \n",
       "var gd = document.getElementById('a7a311fe-efac-4314-bf07-34a75cf1c45f');\n",
       "var x = new MutationObserver(function (mutations, observer) {{\n",
       "        var display = window.getComputedStyle(gd).display;\n",
       "        if (!display || display === 'none') {{\n",
       "            console.log([gd, 'removed!']);\n",
       "            Plotly.purge(gd);\n",
       "            observer.disconnect();\n",
       "        }}\n",
       "}});\n",
       "\n",
       "// Listen for the removal of the full notebook cells\n",
       "var notebookContainer = gd.closest('#notebook-container');\n",
       "if (notebookContainer) {{\n",
       "    x.observe(notebookContainer, {childList: true});\n",
       "}}\n",
       "\n",
       "// Listen for the clearing of the current output cell\n",
       "var outputEl = gd.closest('.output');\n",
       "if (outputEl) {{\n",
       "    x.observe(outputEl, {childList: true});\n",
       "}}\n",
       "\n",
       "                        })                };                });            </script>        </div>"
      ]
     },
     "metadata": {},
     "output_type": "display_data"
    }
   ],
   "source": [
    "exp_var_cumul = np.cumsum(np.round(pca.explained_variance_ratio_, decimals=4)*100)\n",
    "\n",
    "px.area(\n",
    "    x=range(1, exp_var_cumul.shape[0] + 1),\n",
    "    y=exp_var_cumul,\n",
    "    labels={\"x\": \"Jumlah Components\", \"y\": \"Explained Variance\"}\n",
    ")"
   ]
  },
  {
   "cell_type": "code",
   "execution_count": 83,
   "id": "044615f9",
   "metadata": {},
   "outputs": [
    {
     "data": {
      "text/html": [
       "<div>\n",
       "<style scoped>\n",
       "    .dataframe tbody tr th:only-of-type {\n",
       "        vertical-align: middle;\n",
       "    }\n",
       "\n",
       "    .dataframe tbody tr th {\n",
       "        vertical-align: top;\n",
       "    }\n",
       "\n",
       "    .dataframe thead th {\n",
       "        text-align: right;\n",
       "    }\n",
       "</style>\n",
       "<table border=\"1\" class=\"dataframe\">\n",
       "  <thead>\n",
       "    <tr style=\"text-align: right;\">\n",
       "      <th></th>\n",
       "      <th>pca0</th>\n",
       "      <th>pca1</th>\n",
       "      <th>pca2</th>\n",
       "      <th>pca3</th>\n",
       "      <th>pca4</th>\n",
       "      <th>pca5</th>\n",
       "      <th>pca6</th>\n",
       "      <th>pca7</th>\n",
       "      <th>pca8</th>\n",
       "      <th>pca9</th>\n",
       "      <th>pca10</th>\n",
       "      <th>pca11</th>\n",
       "      <th>pca12</th>\n",
       "      <th>pca13</th>\n",
       "      <th>pca14</th>\n",
       "    </tr>\n",
       "  </thead>\n",
       "  <tbody>\n",
       "    <tr>\n",
       "      <th>1</th>\n",
       "      <td>4.244683</td>\n",
       "      <td>1.105657</td>\n",
       "      <td>1.131172</td>\n",
       "      <td>0.679044</td>\n",
       "      <td>-0.055881</td>\n",
       "      <td>-0.310661</td>\n",
       "      <td>0.572532</td>\n",
       "      <td>0.007886</td>\n",
       "      <td>-0.225926</td>\n",
       "      <td>-0.457638</td>\n",
       "      <td>0.085662</td>\n",
       "      <td>-0.223355</td>\n",
       "      <td>0.113834</td>\n",
       "      <td>0.330500</td>\n",
       "      <td>0.023637</td>\n",
       "    </tr>\n",
       "    <tr>\n",
       "      <th>2</th>\n",
       "      <td>-1.185341</td>\n",
       "      <td>-0.684333</td>\n",
       "      <td>0.053013</td>\n",
       "      <td>-0.084410</td>\n",
       "      <td>1.185883</td>\n",
       "      <td>0.589543</td>\n",
       "      <td>-0.197726</td>\n",
       "      <td>-0.156238</td>\n",
       "      <td>-0.441499</td>\n",
       "      <td>-0.214379</td>\n",
       "      <td>0.034283</td>\n",
       "      <td>-0.360723</td>\n",
       "      <td>-0.300733</td>\n",
       "      <td>0.255085</td>\n",
       "      <td>-0.061421</td>\n",
       "    </tr>\n",
       "    <tr>\n",
       "      <th>3</th>\n",
       "      <td>4.218847</td>\n",
       "      <td>-0.279767</td>\n",
       "      <td>0.375088</td>\n",
       "      <td>0.382026</td>\n",
       "      <td>-0.547198</td>\n",
       "      <td>-0.726492</td>\n",
       "      <td>-0.104424</td>\n",
       "      <td>-0.354935</td>\n",
       "      <td>-0.063673</td>\n",
       "      <td>0.067917</td>\n",
       "      <td>0.486697</td>\n",
       "      <td>0.047528</td>\n",
       "      <td>-0.052724</td>\n",
       "      <td>-0.491811</td>\n",
       "      <td>0.042573</td>\n",
       "    </tr>\n",
       "    <tr>\n",
       "      <th>4</th>\n",
       "      <td>-3.876422</td>\n",
       "      <td>2.604765</td>\n",
       "      <td>-0.230404</td>\n",
       "      <td>0.386760</td>\n",
       "      <td>1.662528</td>\n",
       "      <td>-0.737375</td>\n",
       "      <td>-0.269882</td>\n",
       "      <td>1.564191</td>\n",
       "      <td>0.383645</td>\n",
       "      <td>-0.231701</td>\n",
       "      <td>-0.111037</td>\n",
       "      <td>-0.179188</td>\n",
       "      <td>-0.089337</td>\n",
       "      <td>0.151297</td>\n",
       "      <td>0.029490</td>\n",
       "    </tr>\n",
       "    <tr>\n",
       "      <th>5</th>\n",
       "      <td>-1.859185</td>\n",
       "      <td>-1.345375</td>\n",
       "      <td>-1.292654</td>\n",
       "      <td>0.725907</td>\n",
       "      <td>-0.042040</td>\n",
       "      <td>0.398351</td>\n",
       "      <td>-0.071270</td>\n",
       "      <td>0.549110</td>\n",
       "      <td>-0.227061</td>\n",
       "      <td>-0.482855</td>\n",
       "      <td>0.333145</td>\n",
       "      <td>-0.422595</td>\n",
       "      <td>0.729960</td>\n",
       "      <td>0.132444</td>\n",
       "      <td>-0.075962</td>\n",
       "    </tr>\n",
       "  </tbody>\n",
       "</table>\n",
       "</div>"
      ],
      "text/plain": [
       "       pca0      pca1      pca2      pca3      pca4      pca5      pca6  \\\n",
       "1  4.244683  1.105657  1.131172  0.679044 -0.055881 -0.310661  0.572532   \n",
       "2 -1.185341 -0.684333  0.053013 -0.084410  1.185883  0.589543 -0.197726   \n",
       "3  4.218847 -0.279767  0.375088  0.382026 -0.547198 -0.726492 -0.104424   \n",
       "4 -3.876422  2.604765 -0.230404  0.386760  1.662528 -0.737375 -0.269882   \n",
       "5 -1.859185 -1.345375 -1.292654  0.725907 -0.042040  0.398351 -0.071270   \n",
       "\n",
       "       pca7      pca8      pca9     pca10     pca11     pca12     pca13  \\\n",
       "1  0.007886 -0.225926 -0.457638  0.085662 -0.223355  0.113834  0.330500   \n",
       "2 -0.156238 -0.441499 -0.214379  0.034283 -0.360723 -0.300733  0.255085   \n",
       "3 -0.354935 -0.063673  0.067917  0.486697  0.047528 -0.052724 -0.491811   \n",
       "4  1.564191  0.383645 -0.231701 -0.111037 -0.179188 -0.089337  0.151297   \n",
       "5  0.549110 -0.227061 -0.482855  0.333145 -0.422595  0.729960  0.132444   \n",
       "\n",
       "      pca14  \n",
       "1  0.023637  \n",
       "2 -0.061421  \n",
       "3  0.042573  \n",
       "4  0.029490  \n",
       "5 -0.075962  "
      ]
     },
     "execution_count": 83,
     "metadata": {},
     "output_type": "execute_result"
    }
   ],
   "source": [
    "crime_pca = pd.DataFrame(pca.transform(crime_scaled), \n",
    "                          columns=pca.get_feature_names_out())\n",
    "crime_pca.index = crime_pca.index + 1 # to match sm.OLS() input index\n",
    "crime_pca.head()"
   ]
  },
  {
   "cell_type": "markdown",
   "id": "ca846e85",
   "metadata": {},
   "source": [
    "## Modelling "
   ]
  },
  {
   "cell_type": "markdown",
   "id": "1e393ef0",
   "metadata": {},
   "source": [
    "Compare the two models:\n",
    "\n",
    "- `model_ori`: Model using all predictor variables from initial crime data\n",
    "- `model_pca`: Model using all PCs as predictors"
   ]
  },
  {
   "cell_type": "markdown",
   "id": "5d5820ff",
   "metadata": {},
   "source": [
    "### `model_ori`"
   ]
  },
  {
   "cell_type": "code",
   "execution_count": 84,
   "id": "df6ca16b",
   "metadata": {},
   "outputs": [
    {
     "name": "stdout",
     "output_type": "stream",
     "text": [
      "                            OLS Regression Results                            \n",
      "==============================================================================\n",
      "Dep. Variable:             crime_rate   R-squared:                       0.803\n",
      "Model:                            OLS   Adj. R-squared:                  0.708\n",
      "Method:                 Least Squares   F-statistic:                     8.429\n",
      "Date:                Tue, 26 Sep 2023   Prob (F-statistic):           3.54e-07\n",
      "Time:                        00:36:16   Log-Likelihood:                -308.01\n",
      "No. Observations:                  47   AIC:                             648.0\n",
      "Df Residuals:                      31   BIC:                             677.6\n",
      "Df Model:                          15                                         \n",
      "Covariance Type:            nonrobust                                         \n",
      "========================================================================================\n",
      "                           coef    std err          t      P>|t|      [0.025      0.975]\n",
      "----------------------------------------------------------------------------------------\n",
      "const                -5984.2876   1628.318     -3.675      0.001   -9305.265   -2663.310\n",
      "percent_m                8.7830      4.171      2.106      0.043       0.275      17.291\n",
      "is_south                -3.8035    148.755     -0.026      0.980    -307.192     299.585\n",
      "mean_education          18.8324      6.209      3.033      0.005       6.169      31.495\n",
      "police_exp60            19.2804     10.611      1.817      0.079      -2.361      40.922\n",
      "police_exp59           -10.9422     11.748     -0.931      0.359     -34.902      13.018\n",
      "labour_participation    -0.6638      1.470     -0.452      0.655      -3.661       2.334\n",
      "m_per1000f               1.7407      2.035      0.855      0.399      -2.411       5.892\n",
      "state_pop               -0.7330      1.290     -0.568      0.574      -3.363       1.897\n",
      "nonwhites_per1000        0.4204      0.648      0.649      0.521      -0.901       1.742\n",
      "unemploy_m24            -5.8271      4.210     -1.384      0.176     -14.414       2.760\n",
      "unemploy_m39            16.7800      8.234      2.038      0.050      -0.013      33.572\n",
      "gdp                      0.9617      1.037      0.928      0.361      -1.153       3.076\n",
      "inequality               7.0672      2.272      3.111      0.004       2.434      11.700\n",
      "prob_prison          -4855.2658   2272.375     -2.137      0.041   -9489.804    -220.727\n",
      "time_prison             -3.4790      7.165     -0.486      0.631     -18.093      11.135\n",
      "==============================================================================\n",
      "Omnibus:                        2.036   Durbin-Watson:                   1.723\n",
      "Prob(Omnibus):                  0.361   Jarque-Bera (JB):                1.135\n",
      "Skew:                           0.198   Prob(JB):                        0.567\n",
      "Kurtosis:                       3.651   Cond. No.                     1.01e+05\n",
      "==============================================================================\n",
      "\n",
      "Notes:\n",
      "[1] Standard Errors assume that the covariance matrix of the errors is correctly specified.\n",
      "[2] The condition number is large, 1.01e+05. This might indicate that there are\n",
      "strong multicollinearity or other numerical problems.\n"
     ]
    }
   ],
   "source": [
    "Y = crime.crime_rate\n",
    "X = sm.add_constant(crime.drop('crime_rate', axis=1))\n",
    "\n",
    "model_ori = sm.OLS(Y, X).fit()\n",
    "print(model_ori.summary())"
   ]
  },
  {
   "cell_type": "markdown",
   "id": "46a25bd6",
   "metadata": {},
   "source": [
    "> Each Estimate value displayed can be interpreted because it represents the original value."
   ]
  },
  {
   "cell_type": "markdown",
   "id": "335ebceb",
   "metadata": {},
   "source": [
    "### `model_pca`"
   ]
  },
  {
   "cell_type": "code",
   "execution_count": 85,
   "id": "c7257a9e",
   "metadata": {},
   "outputs": [
    {
     "name": "stdout",
     "output_type": "stream",
     "text": [
      "                            OLS Regression Results                            \n",
      "==============================================================================\n",
      "Dep. Variable:             crime_rate   R-squared:                       0.803\n",
      "Model:                            OLS   Adj. R-squared:                  0.708\n",
      "Method:                 Least Squares   F-statistic:                     8.429\n",
      "Date:                Tue, 26 Sep 2023   Prob (F-statistic):           3.54e-07\n",
      "Time:                        00:36:16   Log-Likelihood:                -308.01\n",
      "No. Observations:                  47   AIC:                             648.0\n",
      "Df Residuals:                      31   BIC:                             677.6\n",
      "Df Model:                          15                                         \n",
      "Covariance Type:            nonrobust                                         \n",
      "==============================================================================\n",
      "                 coef    std err          t      P>|t|      [0.025      0.975]\n",
      "------------------------------------------------------------------------------\n",
      "const        905.0851     30.495     29.680      0.000     842.890     967.280\n",
      "pca0         -64.5184     12.430     -5.191      0.000     -89.870     -39.167\n",
      "pca1          69.3335     18.218      3.806      0.001      32.177     106.490\n",
      "pca2         -24.9246     21.537     -1.157      0.256     -68.849      19.000\n",
      "pca3          68.7033     28.287      2.429      0.021      11.011     126.395\n",
      "pca4         226.5931     31.152      7.274      0.000     163.059     290.127\n",
      "pca5          59.5693     41.001      1.453      0.156     -24.052     143.191\n",
      "pca6        -116.0018     53.756     -2.158      0.039    -225.638      -6.366\n",
      "pca7         -28.4094     55.002     -0.517      0.609    -140.587      83.768\n",
      "pca8          36.7780     62.886      0.585      0.563     -91.479     165.035\n",
      "pca9         -55.7154     68.210     -0.817      0.420    -194.830      83.399\n",
      "pca10        -30.2665     72.755     -0.416      0.680    -178.651     118.118\n",
      "pca11       -286.5158     85.173     -3.364      0.002    -460.228    -112.804\n",
      "pca12        -80.9116    115.807     -0.699      0.490    -317.101     155.278\n",
      "pca13        216.8425    126.117      1.719      0.096     -40.374     474.059\n",
      "pca14       -615.5572    448.936     -1.371      0.180   -1531.169     300.054\n",
      "==============================================================================\n",
      "Omnibus:                        2.036   Durbin-Watson:                   1.723\n",
      "Prob(Omnibus):                  0.361   Jarque-Bera (JB):                1.135\n",
      "Skew:                           0.198   Prob(JB):                        0.567\n",
      "Kurtosis:                       3.651   Cond. No.                         36.1\n",
      "==============================================================================\n",
      "\n",
      "Notes:\n",
      "[1] Standard Errors assume that the covariance matrix of the errors is correctly specified.\n"
     ]
    }
   ],
   "source": [
    "Y = crime.crime_rate\n",
    "X = sm.add_constant(crime_pca)\n",
    "\n",
    "model_pca = sm.OLS(Y, X).fit()\n",
    "print(model_pca.summary())"
   ]
  },
  {
   "cell_type": "markdown",
   "id": "b04235e4",
   "metadata": {},
   "source": [
    "> Each Estimate value displayed cannot be interpreted because the PC value is the original data value which has been mixed with a certain formula (using an eigen vector)."
   ]
  },
  {
   "cell_type": "markdown",
   "id": "a2ddce74",
   "metadata": {},
   "source": [
    "## Prediction"
   ]
  },
  {
   "cell_type": "markdown",
   "id": "4a84ec3a",
   "metadata": {},
   "source": [
    "This is only to have model evaluation"
   ]
  },
  {
   "cell_type": "code",
   "execution_count": 86,
   "id": "283404c8",
   "metadata": {},
   "outputs": [
    {
     "data": {
      "text/html": [
       "<div>\n",
       "<style scoped>\n",
       "    .dataframe tbody tr th:only-of-type {\n",
       "        vertical-align: middle;\n",
       "    }\n",
       "\n",
       "    .dataframe tbody tr th {\n",
       "        vertical-align: top;\n",
       "    }\n",
       "\n",
       "    .dataframe thead th {\n",
       "        text-align: right;\n",
       "    }\n",
       "</style>\n",
       "<table border=\"1\" class=\"dataframe\">\n",
       "  <thead>\n",
       "    <tr style=\"text-align: right;\">\n",
       "      <th></th>\n",
       "      <th>actual</th>\n",
       "      <th>pred_model_ori</th>\n",
       "      <th>pred_model_pca</th>\n",
       "    </tr>\n",
       "  </thead>\n",
       "  <tbody>\n",
       "    <tr>\n",
       "      <th>1</th>\n",
       "      <td>791</td>\n",
       "      <td>755.032216</td>\n",
       "      <td>755.032216</td>\n",
       "    </tr>\n",
       "    <tr>\n",
       "      <th>2</th>\n",
       "      <td>1635</td>\n",
       "      <td>1473.676401</td>\n",
       "      <td>1473.676401</td>\n",
       "    </tr>\n",
       "    <tr>\n",
       "      <th>3</th>\n",
       "      <td>578</td>\n",
       "      <td>322.261528</td>\n",
       "      <td>322.261528</td>\n",
       "    </tr>\n",
       "    <tr>\n",
       "      <th>4</th>\n",
       "      <td>1969</td>\n",
       "      <td>1791.361871</td>\n",
       "      <td>1791.361871</td>\n",
       "    </tr>\n",
       "    <tr>\n",
       "      <th>5</th>\n",
       "      <td>1234</td>\n",
       "      <td>1166.684019</td>\n",
       "      <td>1166.684019</td>\n",
       "    </tr>\n",
       "  </tbody>\n",
       "</table>\n",
       "</div>"
      ],
      "text/plain": [
       "   actual  pred_model_ori  pred_model_pca\n",
       "1     791      755.032216      755.032216\n",
       "2    1635     1473.676401     1473.676401\n",
       "3     578      322.261528      322.261528\n",
       "4    1969     1791.361871     1791.361871\n",
       "5    1234     1166.684019     1166.684019"
      ]
     },
     "execution_count": 86,
     "metadata": {},
     "output_type": "execute_result"
    }
   ],
   "source": [
    "pred_model_ori = model_ori.fittedvalues \n",
    "\n",
    "pred_model_pca = model_pca.fittedvalues\n",
    "\n",
    "prediction = pd.DataFrame({\n",
    "    'actual': crime.crime_rate,\n",
    "    'pred_model_ori': pred_model_ori, \n",
    "    'pred_model_pca': pred_model_pca \n",
    "})\n",
    "prediction.head()"
   ]
  },
  {
   "cell_type": "markdown",
   "id": "fac22451",
   "metadata": {},
   "source": [
    "## Model Evaluation"
   ]
  },
  {
   "cell_type": "code",
   "execution_count": 87,
   "id": "1a4d5c12",
   "metadata": {},
   "outputs": [
    {
     "name": "stdout",
     "output_type": "stream",
     "text": [
      "Adjusted R-Squared model_ori linear regression:  0.7078\n",
      "Adjusted R-Squared model_pca linear regression:  0.7078\n"
     ]
    }
   ],
   "source": [
    "print('Adjusted R-Squared model_ori linear regression: ',(model_ori.rsquared_adj).round(4)) # single linear regression\n",
    "print('Adjusted R-Squared model_pca linear regression: ',(model_pca.rsquared_adj).round(4)) # multile linear regression"
   ]
  },
  {
   "cell_type": "code",
   "execution_count": 88,
   "id": "2339ad56",
   "metadata": {},
   "outputs": [],
   "source": [
    "from statsmodels.tools.eval_measures import rmse\n",
    "from statsmodels.tools.eval_measures import meanabs\n",
    "\n",
    "rmse_multiple1 = rmse(prediction['actual'], prediction['pred_model_ori'])\n",
    "rmse_multiple2 = rmse(prediction['actual'], prediction['pred_model_pca'])\n",
    "mae_multiple1 = meanabs(prediction['actual'], prediction['pred_model_ori'])\n",
    "mae_multiple2 = meanabs(prediction['actual'], prediction['pred_model_pca'])"
   ]
  },
  {
   "cell_type": "code",
   "execution_count": 89,
   "id": "a0d69f44",
   "metadata": {},
   "outputs": [
    {
     "data": {
      "text/html": [
       "<div>\n",
       "<style scoped>\n",
       "    .dataframe tbody tr th:only-of-type {\n",
       "        vertical-align: middle;\n",
       "    }\n",
       "\n",
       "    .dataframe tbody tr th {\n",
       "        vertical-align: top;\n",
       "    }\n",
       "\n",
       "    .dataframe thead th {\n",
       "        text-align: right;\n",
       "    }\n",
       "</style>\n",
       "<table border=\"1\" class=\"dataframe\">\n",
       "  <thead>\n",
       "    <tr style=\"text-align: right;\">\n",
       "      <th></th>\n",
       "      <th>model</th>\n",
       "      <th>rmse</th>\n",
       "      <th>mae</th>\n",
       "    </tr>\n",
       "  </thead>\n",
       "  <tbody>\n",
       "    <tr>\n",
       "      <th>0</th>\n",
       "      <td>model_ori</td>\n",
       "      <td>169.789969</td>\n",
       "      <td>129.915213</td>\n",
       "    </tr>\n",
       "    <tr>\n",
       "      <th>1</th>\n",
       "      <td>model_pca</td>\n",
       "      <td>169.789969</td>\n",
       "      <td>129.915213</td>\n",
       "    </tr>\n",
       "  </tbody>\n",
       "</table>\n",
       "</div>"
      ],
      "text/plain": [
       "       model        rmse         mae\n",
       "0  model_ori  169.789969  129.915213\n",
       "1  model_pca  169.789969  129.915213"
      ]
     },
     "execution_count": 89,
     "metadata": {},
     "output_type": "execute_result"
    }
   ],
   "source": [
    "pd.DataFrame({\n",
    "    'model': ['model_ori', 'model_pca'],\n",
    "    'rmse': [rmse_multiple1, rmse_multiple2],\n",
    "    'mae': [mae_multiple1, mae_multiple2]\n",
    "})"
   ]
  },
  {
   "cell_type": "markdown",
   "id": "404acfc8",
   "metadata": {},
   "source": [
    "> The performance of the `model_ori` and `model_pca` models is exactly the same. This is because in `model_pca`, we use all the information in the initial crime data, so the results are the same."
   ]
  },
  {
   "cell_type": "markdown",
   "id": "6c654737",
   "metadata": {},
   "source": [
    "## Assumption Checking"
   ]
  },
  {
   "cell_type": "markdown",
   "id": "afbf2ece",
   "metadata": {},
   "source": [
    "Linear model assumptions so that it can be said to be the Best Linear Unbiased Estimate:\n",
    "\n",
    "- Linearity of Predictors\n",
    "- Normality of Residuals\n",
    "- Homoscedasticity of Residuals\n",
    "- No multicollinearity"
   ]
  },
  {
   "cell_type": "markdown",
   "id": "43e997e9",
   "metadata": {},
   "source": [
    "### Linearity of Predictors"
   ]
  },
  {
   "cell_type": "markdown",
   "id": "5aba29bc",
   "metadata": {},
   "source": [
    "Done before making the model. To test whether the target and predictor variables have a linear relationship."
   ]
  },
  {
   "cell_type": "code",
   "execution_count": 90,
   "id": "97d308ee",
   "metadata": {},
   "outputs": [
    {
     "data": {
      "image/png": "[encoded data removed]",
      "text/plain": [
       "<Figure size 640x480 with 1 Axes>"
      ]
     },
     "metadata": {},
     "output_type": "display_data"
    }
   ],
   "source": [
    "# fungsi dari helper\n",
    "from helper import linearity_test\n",
    "linearity_test(model_ori, Y)"
   ]
  },
  {
   "cell_type": "code",
   "execution_count": 91,
   "id": "9befc304",
   "metadata": {},
   "outputs": [
    {
     "data": {
      "image/png": "[encoded data removed]",
      "text/plain": [
       "<Figure size 640x480 with 1 Axes>"
      ]
     },
     "metadata": {},
     "output_type": "display_data"
    }
   ],
   "source": [
    "linearity_test(model_pca, Y)"
   ]
  },
  {
   "cell_type": "markdown",
   "id": "34b26bb1",
   "metadata": {},
   "source": [
    "### Normality of Residuals"
   ]
  },
  {
   "cell_type": "code",
   "execution_count": 92,
   "id": "af929702",
   "metadata": {},
   "outputs": [
    {
     "data": {
      "text/html": [
       "<div>\n",
       "<style scoped>\n",
       "    .dataframe tbody tr th:only-of-type {\n",
       "        vertical-align: middle;\n",
       "    }\n",
       "\n",
       "    .dataframe tbody tr th {\n",
       "        vertical-align: top;\n",
       "    }\n",
       "\n",
       "    .dataframe thead th {\n",
       "        text-align: right;\n",
       "    }\n",
       "</style>\n",
       "<table border=\"1\" class=\"dataframe\">\n",
       "  <thead>\n",
       "    <tr style=\"text-align: right;\">\n",
       "      <th></th>\n",
       "      <th>statistic</th>\n",
       "      <th>pvalue</th>\n",
       "    </tr>\n",
       "  </thead>\n",
       "  <tbody>\n",
       "    <tr>\n",
       "      <th>0</th>\n",
       "      <td>0.9846</td>\n",
       "      <td>0.784875</td>\n",
       "    </tr>\n",
       "  </tbody>\n",
       "</table>\n",
       "</div>"
      ],
      "text/plain": [
       "   statistic    pvalue\n",
       "0     0.9846  0.784875"
      ]
     },
     "execution_count": 92,
     "metadata": {},
     "output_type": "execute_result"
    }
   ],
   "source": [
    "from scipy.stats import shapiro\n",
    "\n",
    "name = {0 : 'Statistics',\n",
    "       1: 'p-value'}\n",
    "\n",
    "pd.DataFrame({shapiro(model_ori.resid)}).rename(columns = name)"
   ]
  },
  {
   "cell_type": "code",
   "execution_count": 93,
   "id": "67d6ff6d",
   "metadata": {},
   "outputs": [
    {
     "data": {
      "text/html": [
       "<div>\n",
       "<style scoped>\n",
       "    .dataframe tbody tr th:only-of-type {\n",
       "        vertical-align: middle;\n",
       "    }\n",
       "\n",
       "    .dataframe tbody tr th {\n",
       "        vertical-align: top;\n",
       "    }\n",
       "\n",
       "    .dataframe thead th {\n",
       "        text-align: right;\n",
       "    }\n",
       "</style>\n",
       "<table border=\"1\" class=\"dataframe\">\n",
       "  <thead>\n",
       "    <tr style=\"text-align: right;\">\n",
       "      <th></th>\n",
       "      <th>statistic</th>\n",
       "      <th>pvalue</th>\n",
       "    </tr>\n",
       "  </thead>\n",
       "  <tbody>\n",
       "    <tr>\n",
       "      <th>0</th>\n",
       "      <td>0.9846</td>\n",
       "      <td>0.784875</td>\n",
       "    </tr>\n",
       "  </tbody>\n",
       "</table>\n",
       "</div>"
      ],
      "text/plain": [
       "   statistic    pvalue\n",
       "0     0.9846  0.784875"
      ]
     },
     "execution_count": 93,
     "metadata": {},
     "output_type": "execute_result"
    }
   ],
   "source": [
    "from scipy.stats import shapiro\n",
    "\n",
    "name = {0 : 'Statistics',\n",
    "       1: 'p-value'}\n",
    "\n",
    "pd.DataFrame({shapiro(model_pca.resid)}).rename(columns = name)"
   ]
  },
  {
   "cell_type": "markdown",
   "id": "a2470df5",
   "metadata": {},
   "source": [
    "> p-value is 0.088 > alpha (0.05) $\\rightarrow$ Fail to reject $H_0$ / Accept $H_0$ $\\rightarrow$ The residuals are normally distributed."
   ]
  },
  {
   "cell_type": "markdown",
   "id": "0f916381",
   "metadata": {},
   "source": [
    "### Homoscedacity of Residuals "
   ]
  },
  {
   "cell_type": "code",
   "execution_count": 94,
   "id": "33378364",
   "metadata": {},
   "outputs": [
    {
     "data": {
      "text/plain": [
       "[('Lagrange multiplier statistics', 18.46875867941494),\n",
       " ('p-value', 0.23882360158752458),\n",
       " ('f-value', 1.3377885493513066),\n",
       " ('f p-value', 0.2392611275584389)]"
      ]
     },
     "execution_count": 94,
     "metadata": {},
     "output_type": "execute_result"
    }
   ],
   "source": [
    "from statsmodels.compat import lzip\n",
    "import statsmodels.stats.api as sms\n",
    "\n",
    "name = ['Lagrange multiplier statistics', 'p-value', 'f-value', 'f p-value']\n",
    "\n",
    "test = sms.het_breuschpagan(model_ori.resid, model_ori.model.exog)\n",
    "lzip(name, test)"
   ]
  },
  {
   "cell_type": "code",
   "execution_count": 95,
   "id": "07eac1d7",
   "metadata": {},
   "outputs": [
    {
     "data": {
      "text/plain": [
       "[('Lagrange multiplier statistics', 18.468758679414414),\n",
       " ('p-value', 0.23882360158755017),\n",
       " ('f-value', 1.3377885493512438),\n",
       " ('f p-value', 0.23926112755847234)]"
      ]
     },
     "execution_count": 95,
     "metadata": {},
     "output_type": "execute_result"
    }
   ],
   "source": [
    "from statsmodels.compat import lzip\n",
    "import statsmodels.stats.api as sms\n",
    "\n",
    "name = ['Lagrange multiplier statistics', 'p-value', 'f-value', 'f p-value']\n",
    "\n",
    "test = sms.het_breuschpagan(model_pca.resid, model_pca.model.exog)\n",
    "lzip(name, test)"
   ]
  },
  {
   "cell_type": "markdown",
   "id": "ab477860",
   "metadata": {},
   "source": [
    "> p-value > alpha: residual or error is constant or does not form a particular pattern."
   ]
  },
  {
   "cell_type": "markdown",
   "id": "e10cd1e0",
   "metadata": {},
   "source": [
    "### No Multicolinearity "
   ]
  },
  {
   "cell_type": "markdown",
   "id": "5865b4ce",
   "metadata": {},
   "source": [
    "The hope is that in the linear regression model, multicollinearity will not occur. Multicollinearity occurs when the predictor variables used in the model have a strong relationship, whether or not multicollinearity can be seen from the VIF (Variance Inflation Factor) value.\n",
    "\n",
    "VIF formula:\n",
    "\n",
    "$$VIF = \\frac{1}{1-R^2_i}$$\n",
    "\n",
    "where $R^2$ is the r-squared value for each predictor $i$. VIF has a value range from 1 to infinity. **The greater the VIF value, the greater the indication of multicollinearity**. Some researchers say that to determine the presence of multicollinearity, VIF is divided into the following values:\n",
    "- 1 = no correlation between predictors\n",
    "- between 1 and 5 = the correlation is moderate\n",
    "- Greater than 5 = strongest correlation between predictors\n",
    "- Usually a VIF greater than 10 indicates that the predictor variables are very strongly correlated.\n",
    "\n",
    "When the VIF value is more than 10, it means that multicollinearity occurs. the hope is to get a VIF < 10\n",
    "\n",
    "> Documentation of the [variance_inflation_factor](https://www.statsmodels.org/stable/generated/statsmodels.stats.outliers_influence.variance_inflation_factor.html) function in statsmodel."
   ]
  },
  {
   "cell_type": "code",
   "execution_count": 96,
   "id": "3b338ad5",
   "metadata": {},
   "outputs": [
    {
     "data": {
      "text/plain": [
       "const                   2851.125173\n",
       "police_exp59             113.559262\n",
       "police_exp60             104.658667\n",
       "gdp                       10.530375\n",
       "inequality                 8.644528\n",
       "unemploy_m24               6.063931\n",
       "is_south                   5.342783\n",
       "unemploy_m39               5.088880\n",
       "mean_education             5.077447\n",
       "nonwhites_per1000          4.674088\n",
       "m_per1000f                 3.785934\n",
       "labour_participation       3.712690\n",
       "percent_m                  2.892448\n",
       "prob_prison                2.809459\n",
       "time_prison                2.713785\n",
       "state_pop                  2.536708\n",
       "dtype: float64"
      ]
     },
     "execution_count": 96,
     "metadata": {},
     "output_type": "execute_result"
    }
   ],
   "source": [
    "from statsmodels.stats.outliers_influence import variance_inflation_factor as vif\n",
    "import statsmodels.api as sm\n",
    "\n",
    "x = crime.drop(columns = 'crime_rate')\n",
    "\n",
    "xc = sm.add_constant(x)\n",
    "vif = [vif(xc.values, i) for i in range(len(xc.columns))]\n",
    "pd.Series(data=vif, index = xc.columns).sort_values(ascending=False)"
   ]
  },
  {
   "cell_type": "code",
   "execution_count": 97,
   "id": "a1d16faa",
   "metadata": {},
   "outputs": [
    {
     "data": {
      "text/plain": [
       "pca0     1.0\n",
       "pca2     1.0\n",
       "pca3     1.0\n",
       "pca6     1.0\n",
       "pca11    1.0\n",
       "const    1.0\n",
       "pca1     1.0\n",
       "pca5     1.0\n",
       "pca8     1.0\n",
       "pca9     1.0\n",
       "pca10    1.0\n",
       "pca14    1.0\n",
       "pca4     1.0\n",
       "pca7     1.0\n",
       "pca12    1.0\n",
       "pca13    1.0\n",
       "dtype: float64"
      ]
     },
     "execution_count": 97,
     "metadata": {},
     "output_type": "execute_result"
    }
   ],
   "source": [
    "from statsmodels.stats.outliers_influence import variance_inflation_factor as vif\n",
    "import statsmodels.api as sm\n",
    "\n",
    "x = crime_pca\n",
    "\n",
    "xc = sm.add_constant(x)\n",
    "vif = [vif(xc.values, i) for i in range(len(xc.columns))]\n",
    "pd.Series(data=vif, index = xc.columns).sort_values(ascending=False)"
   ]
  },
  {
   "cell_type": "markdown",
   "id": "7404b2ea",
   "metadata": {},
   "source": [
    "In `model_pca`, the assumption of no multicollinearity is fulfilled. A VIF value of 1 indicates that all PCs used have no correlation at all."
   ]
  },
  {
   "cell_type": "markdown",
   "id": "c896a6a7",
   "metadata": {},
   "source": [
    "## Conclusion "
   ]
  },
  {
   "cell_type": "markdown",
   "id": "4daf4c1c",
   "metadata": {},
   "source": [
    "The PCA method can overcome multicollinearity problems in linear models. However, the linear regression model loses interpretability, because the PC values are mixed."
   ]
  }
 ],
 "metadata": {
  "kernelspec": {
   "display_name": "freeport",
   "language": "python",
   "name": "freeport"
  },
  "language_info": {
   "codemirror_mode": {
    "name": "ipython",
    "version": 3
   },
   "file_extension": ".py",
   "mimetype": "text/x-python",
   "name": "python",
   "nbconvert_exporter": "python",
   "pygments_lexer": "ipython3",
   "version": "3.10.12"
  },
  "toc": {
   "base_numbering": 1,
   "nav_menu": {},
   "number_sections": false,
   "sideBar": true,
   "skip_h1_title": false,
   "title_cell": "Table of Contents",
   "title_sidebar": "Contents",
   "toc_cell": false,
   "toc_position": {},
   "toc_section_display": true,
   "toc_window_display": false
  }
 },
 "nbformat": 4,
 "nbformat_minor": 5
}
